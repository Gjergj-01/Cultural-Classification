{
 "cells": [
  {
   "cell_type": "code",
   "execution_count": null,
   "metadata": {
    "colab": {
     "base_uri": "https://localhost:8080/"
    },
    "collapsed": true,
    "executionInfo": {
     "elapsed": 7086,
     "status": "ok",
     "timestamp": 1746389584787,
     "user": {
      "displayName": "gjergj leka",
      "userId": "15116313858404076227"
     },
     "user_tz": -120
    },
    "id": "zRAA49EH3EbL",
    "outputId": "421dac53-1638-498c-f3a5-4b6c6d347bf8"
   },
   "outputs": [],
   "source": [
    "# RUN if you are on colab\n",
    "#!pip install datasets"
   ]
  },
  {
   "cell_type": "code",
   "execution_count": 1,
   "metadata": {
    "executionInfo": {
     "elapsed": 26,
     "status": "ok",
     "timestamp": 1746389592801,
     "user": {
      "displayName": "gjergj leka",
      "userId": "15116313858404076227"
     },
     "user_tz": -120
    },
    "id": "R71-7ObZ2wMn"
   },
   "outputs": [],
   "source": [
    "import torch\n",
    "import torch.nn as nn\n",
    "import torch.nn.functional as F\n",
    "import torch.utils.data as data\n",
    "from torch.utils.data import Dataset, DataLoader\n",
    "import torch.optim as optim\n",
    "\n",
    "import pandas as pd\n",
    "import numpy as np\n",
    "\n",
    "import matplotlib.pyplot as plt\n",
    "\n",
    "from tqdm.notebook import tqdm\n",
    "\n",
    "from datasets import load_from_disk\n",
    "\n",
    "from sklearn.metrics import f1_score"
   ]
  },
  {
   "cell_type": "code",
   "execution_count": null,
   "metadata": {
    "colab": {
     "base_uri": "https://localhost:8080/"
    },
    "executionInfo": {
     "elapsed": 1249,
     "status": "ok",
     "timestamp": 1746389597056,
     "user": {
      "displayName": "gjergj leka",
      "userId": "15116313858404076227"
     },
     "user_tz": -120
    },
    "id": "5SWPgVSD4nZ0",
    "outputId": "9ee50451-c97e-4758-b828-6f4537aeb354"
   },
   "outputs": [],
   "source": [
    "# Mount drive if you are on colab\n",
    "#from google.colab import drive\n",
    "#drive.mount('/content/drive')"
   ]
  },
  {
   "cell_type": "markdown",
   "metadata": {
    "id": "vWPOuM5l3TCz"
   },
   "source": [
    "### Properties preprocessing\n",
    "Here we are going to preprocess data about the properites. The final goal will be to extract a of vectorized representation of this data. For now we train the model to learn such representation, then we'll use it to compute properties' emeddings for training the fianl integrated model."
   ]
  },
  {
   "cell_type": "code",
   "execution_count": 2,
   "metadata": {
    "executionInfo": {
     "elapsed": 40,
     "status": "ok",
     "timestamp": 1746389599982,
     "user": {
      "displayName": "gjergj leka",
      "userId": "15116313858404076227"
     },
     "user_tz": -120
    },
    "id": "FTTGiogu3k-0"
   },
   "outputs": [],
   "source": [
    "class PropertiesClassifier(nn.Module):\n",
    "    '''\n",
    "    input_dim: is the number of properities - 29 in our case\n",
    "    hidden1: first intermediate layer, size 20\n",
    "    hidden2; second intermediate layer, size 10\n",
    "    out_dim: the predictions on the three classes\n",
    "\n",
    "    After training we will extract the features encoded at the layer hidden2\n",
    "    and use them as a vectorized representation of the properties\n",
    "    '''\n",
    "    def __init__(self, input_dim, hidden1, hidden2, out_dim):\n",
    "        super().__init__()\n",
    "        self.fc1 = nn.Linear(input_dim, hidden1)\n",
    "        self.fc2 = nn.Linear(hidden1, hidden2)\n",
    "        self.fc3 = nn.Linear(hidden2, out_dim)\n",
    "        self.act_fn = nn.ReLU()\n",
    "        self.softmax = nn.Softmax(dim=1)\n",
    "\n",
    "    def forward(self, x):\n",
    "        x = self.fc1(x)\n",
    "        x = self.act_fn(x)\n",
    "        x = self.fc2(x)\n",
    "        x = self.act_fn(x)\n",
    "        x = self.fc3(x)\n",
    "        x = self.softmax(x)\n",
    "\n",
    "        return x\n"
   ]
  },
  {
   "cell_type": "code",
   "execution_count": 3,
   "metadata": {
    "executionInfo": {
     "elapsed": 36,
     "status": "ok",
     "timestamp": 1746389602341,
     "user": {
      "displayName": "gjergj leka",
      "userId": "15116313858404076227"
     },
     "user_tz": -120
    },
    "id": "c9hpnWpA338h"
   },
   "outputs": [],
   "source": [
    "# Initialize the model\n",
    "prop_classifier = PropertiesClassifier(input_dim=29, hidden1=20, hidden2=10, out_dim=3)"
   ]
  },
  {
   "cell_type": "markdown",
   "metadata": {
    "id": "uxmyG4ya4E2E"
   },
   "source": [
    "### Data preparation\n",
    "In the following we are going to prepare our customized dataset. We will use a kind if one-hot encoding to represent the data. For each item we will set 1 if the property is not None, 0 otherwise."
   ]
  },
  {
   "cell_type": "code",
   "execution_count": 4,
   "metadata": {
    "executionInfo": {
     "elapsed": 61,
     "status": "ok",
     "timestamp": 1746389604409,
     "user": {
      "displayName": "gjergj leka",
      "userId": "15116313858404076227"
     },
     "user_tz": -120
    },
    "id": "nXK27dVD4Yk1"
   },
   "outputs": [],
   "source": [
    "mapping = {'cultural agnostic': 0, 'cultural representative': 1, 'cultural exclusive': 2}"
   ]
  },
  {
   "cell_type": "code",
   "execution_count": 5,
   "metadata": {
    "executionInfo": {
     "elapsed": 30,
     "status": "ok",
     "timestamp": 1746389605688,
     "user": {
      "displayName": "gjergj leka",
      "userId": "15116313858404076227"
     },
     "user_tz": -120
    },
    "id": "yNB3R9jT4bUc"
   },
   "outputs": [],
   "source": [
    "class PropDataset(data.Dataset):\n",
    "\n",
    "    '''\n",
    "    item = [Italy, None, None, Sicily, None, ...]\n",
    "    vector = [1.0, 0, 0, 1.0, 0, ...]\n",
    "    '''\n",
    "\n",
    "    def get_vector(self, row):\n",
    "        vector = []\n",
    "        for value in row:\n",
    "            vector.append(1.0 if not pd.isna(value) else 0.0)\n",
    "\n",
    "        return vector\n",
    "\n",
    "    def __init__(self, data, labels):\n",
    "        '''\n",
    "        data: pandas DataFrame with the properites\n",
    "        '''\n",
    "        self.num_samples = len(data)\n",
    "\n",
    "        # training data is a list of dictionaries\n",
    "        # each dictionary contains two keys: 'inputs' and 'outputs'\n",
    "\n",
    "        self.data = []\n",
    "        for i in range(self.num_samples):\n",
    "            v = torch.tensor(self.get_vector(data.loc[i]))\n",
    "            label = torch.tensor(mapping[labels[i]])\n",
    "            sample = {'inputs': v, 'outputs': label}\n",
    "            self.data.append(sample)\n",
    "\n",
    "\n",
    "    def __len__(self):\n",
    "        return self.num_samples\n",
    "\n",
    "    def __getitem__(self, index):\n",
    "        return self.data[index]\n"
   ]
  },
  {
   "cell_type": "code",
   "execution_count": 25,
   "metadata": {
    "executionInfo": {
     "elapsed": 782,
     "status": "ok",
     "timestamp": 1746389608607,
     "user": {
      "displayName": "gjergj leka",
      "userId": "15116313858404076227"
     },
     "user_tz": -120
    },
    "id": "rRqCUoId443t"
   },
   "outputs": [],
   "source": [
    "# Load the datasets\n",
    "train_dataset = pd.read_csv('../datasets/properties/training_props.csv')\n",
    "val_dataset = pd.read_csv('../datasets/properties/validation_props.csv')"
   ]
  },
  {
   "cell_type": "code",
   "execution_count": 26,
   "metadata": {
    "executionInfo": {
     "elapsed": 41,
     "status": "ok",
     "timestamp": 1746389616322,
     "user": {
      "displayName": "gjergj leka",
      "userId": "15116313858404076227"
     },
     "user_tz": -120
    },
    "id": "io4zIMTo83Qk"
   },
   "outputs": [],
   "source": [
    "# We drop the first column that stores the index\n",
    "train_dataset = train_dataset.drop(columns=['Unnamed: 0'])\n",
    "val_dataset = val_dataset.drop(columns=['Unnamed: 0'])"
   ]
  },
  {
   "cell_type": "markdown",
   "metadata": {
    "id": "5tehaUVC6YyX"
   },
   "source": [
    "Now we need to extract the labels"
   ]
  },
  {
   "cell_type": "code",
   "execution_count": 27,
   "metadata": {
    "executionInfo": {
     "elapsed": 3324,
     "status": "ok",
     "timestamp": 1746389621345,
     "user": {
      "displayName": "gjergj leka",
      "userId": "15116313858404076227"
     },
     "user_tz": -120
    },
    "id": "GzgVpcdR6AqP"
   },
   "outputs": [],
   "source": [
    "# Load the original dataset\n",
    "original_datasets = load_from_disk('../datasets/train_and_val')"
   ]
  },
  {
   "cell_type": "code",
   "execution_count": 28,
   "metadata": {
    "executionInfo": {
     "elapsed": 22,
     "status": "ok",
     "timestamp": 1746389622793,
     "user": {
      "displayName": "gjergj leka",
      "userId": "15116313858404076227"
     },
     "user_tz": -120
    },
    "id": "eKkdOgGs6Sk7"
   },
   "outputs": [],
   "source": [
    "# We extract the labels\n",
    "train_labels = original_datasets['train']['label']\n",
    "val_labels = original_datasets['validation']['label']"
   ]
  },
  {
   "cell_type": "markdown",
   "metadata": {
    "id": "47eX1iqg6lsW"
   },
   "source": [
    "Now we can finally generate the datasets"
   ]
  },
  {
   "cell_type": "code",
   "execution_count": 29,
   "metadata": {
    "executionInfo": {
     "elapsed": 624,
     "status": "ok",
     "timestamp": 1746389626213,
     "user": {
      "displayName": "gjergj leka",
      "userId": "15116313858404076227"
     },
     "user_tz": -120
    },
    "id": "mXdswGYM6s-l"
   },
   "outputs": [],
   "source": [
    "training_samples = PropDataset(data=train_dataset, labels=train_labels)\n",
    "validation_samples = PropDataset(data=val_dataset, labels=val_labels)"
   ]
  },
  {
   "cell_type": "markdown",
   "metadata": {
    "id": "hCHzPk-k6wsR"
   },
   "source": [
    "### The Trainer class"
   ]
  },
  {
   "cell_type": "code",
   "execution_count": 30,
   "metadata": {
    "id": "oMOIl-QWiPNZ"
   },
   "outputs": [],
   "source": [
    "class Trainer():\n",
    "\n",
    "    def __init__(self, model, loss_function, optimizer, num_epochs):\n",
    "        self.model = model\n",
    "        self.loss_function = loss_function\n",
    "        self.optimizer = optimizer\n",
    "        self.num_epochs = num_epochs\n",
    "\n",
    "    def compute_f1_score(self, predictions, labels):\n",
    "        discrete_predictions = [preds.detach().clone().argmax(dim=1) for preds in predictions]\n",
    "        discrete_predictions = np.array(discrete_predictions)\n",
    "        labels_array = np.array(labels)\n",
    "\n",
    "        f1 = f1_score(labels_array.flatten(), discrete_predictions.flatten(), average='macro')\n",
    "        return f1\n",
    "\n",
    "\n",
    "    def compute_accuracy(self, predictions, labels):\n",
    "        discrete_predictions = predictions.detach().clone()\n",
    "        discrete_predictions = discrete_predictions.argmax(dim=1)\n",
    "\n",
    "        return torch.mean(torch.Tensor([1 if p==l else 0 for p, l in list(zip(discrete_predictions.view(-1), labels.view(-1)))])).item()\n",
    "\n",
    "    def train(self, train_dataset, valid_dataset):\n",
    "        train_loss = []\n",
    "        train_accuracy = []\n",
    "        train_f1_score = []\n",
    "        valid_loss = []\n",
    "        valid_accuracy = []\n",
    "        valid_f1_score = []\n",
    "\n",
    "        for epoch in tqdm(range(self.num_epochs)):\n",
    "            epoch_loss = 0.0\n",
    "            epoch_accuracy = 0.0\n",
    "            epoch_f1_score = 0.0\n",
    "\n",
    "            epoch_predictions = []\n",
    "            epoch_labels = []\n",
    "\n",
    "            for step, sample in enumerate(train_dataset):\n",
    "                inputs = sample['inputs']\n",
    "                labels = sample['outputs']\n",
    "\n",
    "                # set the gradients to zero\n",
    "                self.optimizer.zero_grad()\n",
    "\n",
    "                # compute the predictions\n",
    "                predictions = self.model(inputs)\n",
    "                epoch_predictions.append(predictions)\n",
    "\n",
    "                labels = labels.view(-1).long()\n",
    "                epoch_labels.append(labels)\n",
    "\n",
    "                #compute the loss\n",
    "                sample_loss = self.loss_function(predictions, labels)\n",
    "\n",
    "                # compute the gradients\n",
    "                sample_loss.backward()\n",
    "\n",
    "                # update the weights\n",
    "                self.optimizer.step()\n",
    "\n",
    "                epoch_loss += sample_loss.tolist()\n",
    "                epoch_accuracy += self.compute_accuracy(predictions, labels)\n",
    "\n",
    "\n",
    "\n",
    "            avg_epoch_loss = epoch_loss / len(train_dataset)\n",
    "            avg_epoch_accuracy = epoch_accuracy / len(train_dataset)\n",
    "            epoch_f1_score = self.compute_f1_score(epoch_predictions, epoch_labels)\n",
    "\n",
    "\n",
    "            print(f'Avg training loss at epoch {epoch}: {avg_epoch_loss}')\n",
    "            print(f'Avg training accuracy at epoch {epoch}: {avg_epoch_accuracy}')\n",
    "            print(f'Training f1_score at epoch {epoch}: {epoch_f1_score}\\n')\n",
    "\n",
    "            valid_loss_epoch, valid_accuracy_epoch, valid_f1_score_epoch = self.evaluate(valid_dataset)\n",
    "\n",
    "            print(f'Validation loss at epoch {epoch}: {valid_loss_epoch}')\n",
    "            print(f'Validation accuracy at epoch {epoch}: {valid_accuracy_epoch}')\n",
    "            print(f'Validation f1_score at epoch {epoch}: {valid_f1_score_epoch}\\n\\n')\n",
    "\n",
    "            ## training scores\n",
    "            train_loss.append(avg_epoch_loss)\n",
    "            train_accuracy.append(avg_epoch_accuracy)\n",
    "            train_f1_score.append(epoch_f1_score)\n",
    "\n",
    "            ## validation scores\n",
    "            valid_loss.append(valid_loss_epoch)\n",
    "            valid_accuracy.append(valid_accuracy_epoch)\n",
    "            valid_f1_score.append(valid_f1_score_epoch)\n",
    "\n",
    "\n",
    "        return {\n",
    "            \"train_loss\": train_loss,\n",
    "            \"train_accuracy\": train_accuracy,\n",
    "            \"train_f1_score\": train_f1_score,\n",
    "            \"valid_loss\": valid_loss,\n",
    "            \"valid_accuracy\": valid_accuracy,\n",
    "            \"valid_f1_score\": valid_f1_score\n",
    "            }\n",
    "\n",
    "\n",
    "    def evaluate(self, validation_dataset):\n",
    "        valid_loss = 0.0\n",
    "        validation_accuracy = 0.0\n",
    "        valid_f1_score = 0.0\n",
    "\n",
    "        predictions_list = []\n",
    "        labels_list = []\n",
    "\n",
    "        with torch.no_grad():\n",
    "            for sample in validation_dataset:\n",
    "                inputs = sample['inputs']\n",
    "                labels = sample['outputs']\n",
    "\n",
    "                predictions = self.model(inputs)\n",
    "                predictions_list.append(predictions)\n",
    "\n",
    "                labels = labels.view(-1).long()\n",
    "                labels_list.append(labels)\n",
    "\n",
    "                sample_loss = self.loss_function(predictions, labels)\n",
    "                valid_loss += sample_loss.tolist()\n",
    "\n",
    "                validation_accuracy += self.compute_accuracy(predictions, labels)\n",
    "\n",
    "\n",
    "        avg_valid_loss = valid_loss / len(validation_dataset)\n",
    "        avg_valid_accuracy = validation_accuracy / len(validation_dataset)\n",
    "        valid_f1_score = self.compute_f1_score(predictions_list, labels_list)\n",
    "\n",
    "        return avg_valid_loss, avg_valid_accuracy, valid_f1_score"
   ]
  },
  {
   "cell_type": "markdown",
   "metadata": {
    "id": "0wf28sUi7G3G"
   },
   "source": [
    "The last thing to do before training is to load the data using the `DataLoader` module."
   ]
  },
  {
   "cell_type": "code",
   "execution_count": 31,
   "metadata": {
    "id": "1A-pozfN7Q6J"
   },
   "outputs": [],
   "source": [
    "training_dataset = DataLoader(training_samples, batch_size=16, shuffle=True, drop_last=True)\n",
    "validation_dataset = DataLoader(validation_samples, batch_size=8, drop_last=True)"
   ]
  },
  {
   "cell_type": "markdown",
   "metadata": {
    "id": "7FdiOfW67VEp"
   },
   "source": [
    "Now, we can finally train the model."
   ]
  },
  {
   "cell_type": "code",
   "execution_count": 32,
   "metadata": {
    "id": "bMqQ5SF67Yim"
   },
   "outputs": [],
   "source": [
    "trainer = Trainer(prop_classifier,\n",
    "                  loss_function = nn.CrossEntropyLoss(),\n",
    "                  optimizer=optim.SGD(prop_classifier.parameters(), lr=0.01),\n",
    "                  num_epochs=50)"
   ]
  },
  {
   "cell_type": "code",
   "execution_count": null,
   "metadata": {
    "colab": {
     "base_uri": "https://localhost:8080/",
     "height": 1000,
     "referenced_widgets": [
      "fdd92d96ce1d4e51a9d43b131ed9f8c2",
      "6c2d14a92a20476e9d0909ebfb332c42",
      "09d703876d594e108583d1397c54fe44",
      "616f27b88bf3486fae4c15b3c1330df7",
      "6eb35df1df514a19a6158abe66fcbc63",
      "7aa06421a8cf433e8d3cce3d3aa242ec",
      "d5df171eb33d453c9caefefa0961d700",
      "112f47bb1dbb40dead6b5cbe7aae0c25",
      "769dc4dde7e5476eb817449bb3f1051b",
      "42293fbc49d44c6eb73dde168a3e032e",
      "8dbe9a8d5a864f4fbbfc5928e3786aa6"
     ]
    },
    "executionInfo": {
     "elapsed": 26494,
     "status": "ok",
     "timestamp": 1746373434345,
     "user": {
      "displayName": "gjergj leka",
      "userId": "00061311852127832404"
     },
     "user_tz": -120
    },
    "id": "tTit23Vt79nY",
    "outputId": "73a97677-08f4-49ba-92b6-6e5cab03b300"
   },
   "outputs": [],
   "source": [
    "history = trainer.train(training_dataset, validation_dataset)"
   ]
  },
  {
   "cell_type": "markdown",
   "metadata": {
    "id": "sGd4bo_w9tYN"
   },
   "source": [
    "### Plots"
   ]
  },
  {
   "cell_type": "markdown",
   "metadata": {
    "id": "RWQoXxLq9_Vg"
   },
   "source": [
    "#### Loss"
   ]
  },
  {
   "cell_type": "code",
   "execution_count": 34,
   "metadata": {
    "colab": {
     "base_uri": "https://localhost:8080/",
     "height": 452
    },
    "executionInfo": {
     "elapsed": 727,
     "status": "ok",
     "timestamp": 1746373454412,
     "user": {
      "displayName": "gjergj leka",
      "userId": "00061311852127832404"
     },
     "user_tz": -120
    },
    "id": "SLYUSf989v2l",
    "outputId": "8a6e9972-fbc9-48fc-d5de-70c521b041b3"
   },
   "outputs": [
    {
     "data": {
      "image/png": "[encoded data removed]",
      "text/plain": [
       "<Figure size 640x480 with 1 Axes>"
      ]
     },
     "metadata": {},
     "output_type": "display_data"
    }
   ],
   "source": [
    "plt.title('CrossEntropy Loss - Plot')\n",
    "plt.plot(history[\"train_loss\"], label=\"training loss\")\n",
    "plt.plot(history[\"valid_loss\"], label=\"validation loss\")\n",
    "plt.legend()\n",
    "\n",
    "plt.show()"
   ]
  },
  {
   "cell_type": "markdown",
   "metadata": {
    "id": "UHpK55mT-D4Z"
   },
   "source": [
    "### Accuracy"
   ]
  },
  {
   "cell_type": "code",
   "execution_count": 35,
   "metadata": {
    "colab": {
     "base_uri": "https://localhost:8080/",
     "height": 452
    },
    "executionInfo": {
     "elapsed": 479,
     "status": "ok",
     "timestamp": 1746373473237,
     "user": {
      "displayName": "gjergj leka",
      "userId": "00061311852127832404"
     },
     "user_tz": -120
    },
    "id": "f44LJVLT9zlu",
    "outputId": "1eea1e59-f819-4628-e7f2-49c3836a9b66"
   },
   "outputs": [
    {
     "data": {
      "image/png": "[encoded data removed]",
      "text/plain": [
       "<Figure size 640x480 with 1 Axes>"
      ]
     },
     "metadata": {},
     "output_type": "display_data"
    }
   ],
   "source": [
    "plt.title(\"Accuracy - Plot\")\n",
    "plt.plot(history[\"train_accuracy\"], label=\"training accuracy\")\n",
    "plt.plot(history[\"valid_accuracy\"], label=\"validation accuracy\")\n",
    "plt.legend()\n",
    "\n",
    "plt.show()"
   ]
  },
  {
   "cell_type": "markdown",
   "metadata": {
    "id": "GTXsmA4y-ImK"
   },
   "source": [
    "### F1-score"
   ]
  },
  {
   "cell_type": "code",
   "execution_count": 36,
   "metadata": {
    "colab": {
     "base_uri": "https://localhost:8080/",
     "height": 452
    },
    "executionInfo": {
     "elapsed": 398,
     "status": "ok",
     "timestamp": 1746373518716,
     "user": {
      "displayName": "gjergj leka",
      "userId": "00061311852127832404"
     },
     "user_tz": -120
    },
    "id": "-FF5hI-K-Q8r",
    "outputId": "3e407f5d-7d27-466a-cc08-f21e583bd819"
   },
   "outputs": [
    {
     "data": {
      "image/png": "[encoded data removed]",
      "text/plain": [
       "<Figure size 640x480 with 1 Axes>"
      ]
     },
     "metadata": {},
     "output_type": "display_data"
    }
   ],
   "source": [
    "plt.title(\"F1-Score - Plot\")\n",
    "plt.plot(history[\"train_f1_score\"], label=\"train f1-score\")\n",
    "plt.plot(history[\"valid_f1_score\"], label=\"validation f1-score\")\n",
    "plt.legend()\n",
    "\n",
    "plt.show()"
   ]
  },
  {
   "cell_type": "markdown",
   "metadata": {
    "id": "RMDsaoHh97XA"
   },
   "source": [
    "### Now we save the model"
   ]
  },
  {
   "cell_type": "code",
   "execution_count": 37,
   "metadata": {
    "id": "QzV8q7OB9-W5"
   },
   "outputs": [],
   "source": [
    "state_dict = prop_classifier.state_dict()\n",
    "torch.save(state_dict, \"../models/prop_classifier.tar\")"
   ]
  }
 ],
 "metadata": {
  "colab": {
   "provenance": []
  },
  "kernelspec": {
   "display_name": "Python 3",
   "name": "python3"
  },
  "language_info": {
   "codemirror_mode": {
    "name": "ipython",
    "version": 3
   },
   "file_extension": ".py",
   "mimetype": "text/x-python",
   "name": "python",
   "nbconvert_exporter": "python",
   "pygments_lexer": "ipython3",
   "version": "3.10.12"
  },
  "widgets": {}
 },
 "nbformat": 4,
 "nbformat_minor": 0
}
