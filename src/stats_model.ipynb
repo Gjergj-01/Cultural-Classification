{
 "cells": [
  {
   "cell_type": "code",
   "execution_count": 2,
   "id": "17cd9d9e",
   "metadata": {},
   "outputs": [],
   "source": [
    "# pytorch\n",
    "import torch\n",
    "import torch.nn as nn\n",
    "import torch.nn.functional as F\n",
    "import torch.utils.data as data\n",
    "from torch.utils.data import Dataset, DataLoader\n",
    "import torch.optim as optim\n",
    "\n",
    "import pandas as pd\n",
    "import numpy as np\n",
    "\n",
    "import matplotlib.pyplot as plt\n",
    "\n",
    "from tqdm.notebook import tqdm\n",
    "\n",
    "# sklearn\n",
    "from sklearn.preprocessing import StandardScaler\n",
    "from sklearn.preprocessing import OneHotEncoder\n",
    "from sklearn.compose import ColumnTransformer\n",
    "from sklearn.metrics import f1_score"
   ]
  },
  {
   "cell_type": "markdown",
   "id": "2d773bc7",
   "metadata": {},
   "source": [
    "### Statistical information\n",
    "In this notebook we treat the statistical data. The goal will be to train a `MLP` that we will then use to extract a vectorized representation of the statistical information of each item."
   ]
  },
  {
   "cell_type": "code",
   "execution_count": 3,
   "id": "e2991d05",
   "metadata": {},
   "outputs": [],
   "source": [
    "# Load the datasets with the statistical info\n",
    "train_stats = pd.read_csv('../datasets/statistics/train_stats.csv')\n",
    "val_stats = pd.read_csv('../datasets/statistics/val_stats.csv')"
   ]
  },
  {
   "cell_type": "markdown",
   "id": "8e501631",
   "metadata": {},
   "source": [
    "The datasets contain the follwoing statistical information:\n",
    "\n",
    "We have columns that store information about the text distribution, and more precisely we have the following attributes:\n",
    "- text_distribution: array storing length of wikipedia texts relative to the item\n",
    "- avg_text: mean of the text distribution quantity\n",
    "- std_text: standard deviation of the distrinution quantity\n",
    "- len: number of wikipedia links connected to the item\n",
    "- entropy_text: entropy computed on the text_distrinution\n",
    "- gini_text: gini's index computed on text_distribution\n",
    "- sum_over_texts: sum of the values in text distribution\n",
    "\n",
    "\n",
    "Then we have another set of columns storing data about the references to each item's wikipedia page. So similarly to before we have:\n",
    "- ref_distribution: array storing the number of references to each item wikipedia page\n",
    "- avg_ref: mean of the ref_distribution quantity\n",
    "- std_ref: standard deviation of the ref_distribution quantity\n",
    "- entropy_ref: entropy computed on the ref_distrbution\n",
    "- gini_ref: gini's index computed on the ref_distribution\n",
    "- sum_over_ref: sum of the values in the ref_didtribution quantity\n",
    "\n",
    "Finally, we have otther four columns:\n",
    "- h_adj_descr: euristic counting the number of attributes (italian, chinese, english,...) on the description\n",
    "- h_nat_descr: euristic counting the number of nations in the description of the item\n",
    "- h_adj_engtext: euristic counting the number of attributes (italian, chinese, english,...) on the english wikipedia text\n",
    "- h_nat_engtext: euristic counting the number of nations in the english wikipedia text."
   ]
  },
  {
   "cell_type": "markdown",
   "id": "2949661e",
   "metadata": {},
   "source": [
    "Next, we are going to drop some columns that are not needed, and then we are going to preprocess the reamining features. More concreately, we must encode the categorical features and scale the statistical ones."
   ]
  },
  {
   "cell_type": "code",
   "execution_count": null,
   "id": "ae96c334",
   "metadata": {},
   "outputs": [],
   "source": [
    "encoder = OneHotEncoder(sparse_output=False, handle_unknown='ignore') \n",
    "\n",
    "categorical_features = ['type', 'category', 'subcategory']\n",
    "stats_features = ['std_text', 'avg_text', 'len', 'entropy_text', 'gini_text',\n",
    "       'sum_over_texts', 'std_ref', 'avg_ref', 'sum_over_ref', 'entropy_ref',\n",
    "       'gini_ref', 'h_adj_descr', 'h_nat_descr', 'h_adj_engtext',\n",
    "       'h_nat_engtext']"
   ]
  },
  {
   "cell_type": "code",
   "execution_count": 5,
   "id": "e35b689f",
   "metadata": {},
   "outputs": [],
   "source": [
    "# Here we are going to drop the text_distribution and ref_distribution columns.\n",
    "# We do so because they have a different type of data structure (array) with respect\n",
    "# to the other attributes (scalars) and so it is a bit more complicated to deal with\n",
    "# both kind of data. Moreover, there are other attributes that store all the relevant information\n",
    "# about these two distributions. Then we also drop the 'item', 'name' and 'label' column\n",
    "\n",
    "train_labels = train_stats['label']\n",
    "train_stats = train_stats.drop(columns=['item', 'name', 'label',\n",
    "                                          'countryLabel', 'subclass_ofLabel', 'text_distribution',\n",
    "                                          'ref_distribution'])\n",
    "val_labels = val_stats['label']\n",
    "val_stats = val_stats.drop(columns=['item', 'name', 'label',\n",
    "                                          'countryLabel', 'subclass_ofLabel', 'text_distribution',\n",
    "                                          'ref_distribution'])"
   ]
  },
  {
   "cell_type": "markdown",
   "id": "94739683",
   "metadata": {},
   "source": [
    "To deal with the categorical features, we are going to use the `encoder` module from `sklearn` that performes a **one-hot** encoding. For the statistical features instead, we are going to use the `StandardScaler` module, still from `sklearn`, that applies the following transformation to the data:\n",
    "$$\\tilde{x} = \\frac{x - \\mu}{\\sigma}$$\n",
    "where $\\mu$ is the mean of the trainig samples and $\\sigma$ the standard deviation.\n",
    "\n",
    "Then, we use the `ColumnTranformer` module that simplifies considerably the process."
   ]
  },
  {
   "cell_type": "code",
   "execution_count": 6,
   "id": "8458de6c",
   "metadata": {},
   "outputs": [],
   "source": [
    "ct = ColumnTransformer(\n",
    "    [(\"text_preprocess\", encoder, categorical_features),\n",
    "     ('stats_preprocess', StandardScaler(), stats_features)]\n",
    ")\n",
    "\n",
    "## tranformerd datasets\n",
    "transformed_train_dataset = ct.fit_transform(train_stats)\n",
    "transformed_val_dataset = ct.transform(val_stats)"
   ]
  },
  {
   "cell_type": "markdown",
   "id": "5c67bc02",
   "metadata": {},
   "source": [
    "### Model definition"
   ]
  },
  {
   "cell_type": "code",
   "execution_count": 7,
   "id": "ba000fc1",
   "metadata": {},
   "outputs": [],
   "source": [
    "class StatsClassifier(nn.Module):\n",
    "    '''\n",
    "    input_dim = 144 (the number of attributes resulting after the one-hot encoding)\n",
    "    hidden1 = 70\n",
    "    hidden2 = 10\n",
    "    out_dim = 3, the number of classes to predict\n",
    "    '''\n",
    "    def __init__(self, input_dim, hidden1, hidden2, out_dim):\n",
    "        super().__init__()\n",
    "        self.fc1 = nn.Linear(input_dim, hidden1)\n",
    "        self.fc2 = nn.Linear(hidden1, hidden2)\n",
    "        self.fc3 = nn.Linear(hidden2, out_dim)\n",
    "\n",
    "        self.act_fn = nn.ReLU()\n",
    "        self.softmax = nn.Softmax(dim=1)\n",
    "\n",
    "    def forward(self, x):\n",
    "        x = self.fc1(x)\n",
    "        x = self.act_fn(x)\n",
    "        x = self.fc2(x)\n",
    "        x = self.act_fn(x)\n",
    "        x = self.fc3(x)\n",
    "        x = self.softmax(x)\n",
    "\n",
    "        return x"
   ]
  },
  {
   "cell_type": "code",
   "execution_count": 8,
   "id": "dbd8fc7b",
   "metadata": {},
   "outputs": [],
   "source": [
    "stats_classifier = StatsClassifier(input_dim=144, hidden1=70, hidden2=10, out_dim=3)"
   ]
  },
  {
   "cell_type": "markdown",
   "id": "45b0fad3",
   "metadata": {},
   "source": [
    "### Data preparation\n",
    "In the following we are going to prepare the dataset. We will \"compact\" the data in a similar way as we did with the properties. For each item we will have a dictionary with the keys `{'inputs': vector, 'outputs': label}`."
   ]
  },
  {
   "cell_type": "code",
   "execution_count": 9,
   "id": "80d6f633",
   "metadata": {},
   "outputs": [],
   "source": [
    "mapping = {'cultural agnostic': 0, 'cultural representative': 1, 'cultural exclusive': 2}"
   ]
  },
  {
   "cell_type": "code",
   "execution_count": 10,
   "id": "d45981d9",
   "metadata": {},
   "outputs": [],
   "source": [
    "class StatsDataset(data.Dataset):\n",
    "\n",
    "    def __init__(self, data, labels):\n",
    "        self.num_samples = len(data)\n",
    "\n",
    "        # training data is a list of dictionaries, where, as said before,\n",
    "        # each dictionary contains two keys: 'inputs' and 'outputs'\n",
    "\n",
    "        self.data = []\n",
    "        for i in range(self.num_samples):\n",
    "            vector = torch.tensor(data[i], dtype=torch.float32)\n",
    "            label = torch.tensor(mapping[labels.loc[i]])\n",
    "\n",
    "            sample = {'inputs': vector, 'outputs': label}\n",
    "            self.data.append(sample)\n",
    "\n",
    "    def __len__(self):\n",
    "        return self.num_samples\n",
    "\n",
    "    def __getitem__(self, index):\n",
    "        return self.data[index]\n"
   ]
  },
  {
   "cell_type": "code",
   "execution_count": 11,
   "id": "4e061535",
   "metadata": {},
   "outputs": [],
   "source": [
    "# Now we can generate the datasets\n",
    "training_samples = StatsDataset(data=transformed_train_dataset, labels=train_labels)\n",
    "validation_samples = StatsDataset(data=transformed_val_dataset, labels=val_labels)"
   ]
  },
  {
   "cell_type": "markdown",
   "id": "76ba3ede",
   "metadata": {},
   "source": [
    "### The Trainer class"
   ]
  },
  {
   "cell_type": "code",
   "execution_count": 12,
   "id": "ac947c6a",
   "metadata": {},
   "outputs": [],
   "source": [
    "class Trainer():\n",
    "\n",
    "    def __init__(self, model, loss_function, optimizer, num_epochs):\n",
    "        self.model = model\n",
    "        self.loss_function = loss_function\n",
    "        self.optimizer = optimizer\n",
    "        self.num_epochs = num_epochs\n",
    "\n",
    "    def compute_f1_score(self, predictions, labels):\n",
    "        discrete_predictions = [preds.detach().clone().argmax(dim=1) for preds in predictions]\n",
    "        discrete_predictions = np.array(discrete_predictions)\n",
    "        labels_array = np.array(labels)\n",
    "\n",
    "        f1 = f1_score(labels_array.flatten(), discrete_predictions.flatten(), average='macro')\n",
    "        return f1\n",
    "\n",
    "\n",
    "    def compute_accuracy(self, predictions, labels):\n",
    "        discrete_predictions = predictions.detach().clone()\n",
    "        discrete_predictions = discrete_predictions.argmax(dim=1)\n",
    "\n",
    "        return torch.mean(torch.Tensor([1 if p==l else 0 for p, l in list(zip(discrete_predictions.view(-1), labels.view(-1)))])).item()\n",
    "\n",
    "    def train(self, train_dataset, valid_dataset):\n",
    "        train_loss = []\n",
    "        train_accuracy = []\n",
    "        train_f1_score = []\n",
    "        valid_loss = []\n",
    "        valid_accuracy = []\n",
    "        valid_f1_score = []\n",
    "\n",
    "        for epoch in tqdm(range(self.num_epochs)):\n",
    "            epoch_loss = 0.0\n",
    "            epoch_accuracy = 0.0\n",
    "            epoch_f1_score = 0.0\n",
    "\n",
    "            epoch_predictions = []\n",
    "            epoch_labels = []\n",
    "\n",
    "            for step, sample in enumerate(train_dataset):\n",
    "                inputs = sample['inputs']\n",
    "                labels = sample['outputs']\n",
    "\n",
    "                # set the gradients to zero\n",
    "                self.optimizer.zero_grad()\n",
    "\n",
    "                # compute the predictions\n",
    "                predictions = self.model(inputs)\n",
    "                epoch_predictions.append(predictions)\n",
    "\n",
    "                labels = labels.view(-1).long()\n",
    "                epoch_labels.append(labels)\n",
    "\n",
    "                #compute the loss\n",
    "                sample_loss = self.loss_function(predictions, labels)\n",
    "\n",
    "                sample_loss.backward()\n",
    "                self.optimizer.step()\n",
    "\n",
    "                epoch_loss += sample_loss.tolist()\n",
    "                epoch_accuracy += self.compute_accuracy(predictions, labels)\n",
    "\n",
    "\n",
    "\n",
    "            avg_epoch_loss = epoch_loss / len(train_dataset)\n",
    "            avg_epoch_accuracy = epoch_accuracy / len(train_dataset)\n",
    "            epoch_f1_score = self.compute_f1_score(epoch_predictions, epoch_labels)\n",
    "\n",
    "            if epoch % 5 == 0:\n",
    "                print(f'Avg training loss at epoch {epoch}: {avg_epoch_loss}')\n",
    "                print(f'Avg training accuracy at epoch {epoch}: {avg_epoch_accuracy}')\n",
    "                print(f'Training f1_score at epoch {epoch}: {epoch_f1_score}\\n')\n",
    "\n",
    "            valid_loss_epoch, valid_accuracy_epoch, valid_f1_score_epoch = self.evaluate(valid_dataset)\n",
    "\n",
    "            if epoch % 5 == 0:\n",
    "                print(f'Validation loss at epoch {epoch}: {valid_loss_epoch}')\n",
    "                print(f'Validation accuracy at epoch {epoch}: {valid_accuracy_epoch}')\n",
    "                print(f'Validation f1_score at epoch {epoch}: {valid_f1_score_epoch}\\n\\n')\n",
    "\n",
    "            ## training scores\n",
    "            train_loss.append(avg_epoch_loss)\n",
    "            train_accuracy.append(avg_epoch_accuracy)\n",
    "            train_f1_score.append(epoch_f1_score)\n",
    "\n",
    "            ## validation scores\n",
    "            valid_loss.append(valid_loss_epoch)\n",
    "            valid_accuracy.append(valid_accuracy_epoch)\n",
    "            valid_f1_score.append(valid_f1_score_epoch)\n",
    "\n",
    "\n",
    "        return {\n",
    "            \"train_loss\": train_loss,\n",
    "            \"train_accuracy\": train_accuracy,\n",
    "            \"train_f1_score\": train_f1_score,\n",
    "            \"valid_loss\": valid_loss,\n",
    "            \"valid_accuracy\": valid_accuracy,\n",
    "            \"valid_f1_score\": valid_f1_score\n",
    "            }\n",
    "\n",
    "\n",
    "    def evaluate(self, validation_dataset):\n",
    "        valid_loss = 0.0\n",
    "        validation_accuracy = 0.0\n",
    "        valid_f1_score = 0.0\n",
    "\n",
    "        predictions_list = []\n",
    "        labels_list = []\n",
    "\n",
    "        with torch.no_grad():\n",
    "            for sample in validation_dataset:\n",
    "                inputs = sample['inputs']\n",
    "                labels = sample['outputs']\n",
    "\n",
    "                predictions = self.model(inputs)\n",
    "                predictions_list.append(predictions)\n",
    "\n",
    "                labels = labels.view(-1).long()\n",
    "                labels_list.append(labels)\n",
    "\n",
    "                sample_loss = self.loss_function(predictions, labels)\n",
    "                valid_loss += sample_loss.tolist()\n",
    "\n",
    "                validation_accuracy += self.compute_accuracy(predictions, labels)\n",
    "\n",
    "\n",
    "        avg_valid_loss = valid_loss / len(validation_dataset)\n",
    "        avg_valid_accuracy = validation_accuracy / len(validation_dataset)\n",
    "        valid_f1_score = self.compute_f1_score(predictions_list, labels_list)\n",
    "\n",
    "        return avg_valid_loss, avg_valid_accuracy, valid_f1_score"
   ]
  },
  {
   "cell_type": "code",
   "execution_count": 13,
   "id": "b1a843af",
   "metadata": {},
   "outputs": [],
   "source": [
    "# Before training we load the data using the DataLoader module\n",
    "training_dataset = DataLoader(training_samples, batch_size=16, shuffle=True, drop_last=True)\n",
    "validation_dataset = DataLoader(validation_samples, batch_size=8, drop_last=True)"
   ]
  },
  {
   "cell_type": "code",
   "execution_count": 14,
   "id": "3d6902e5",
   "metadata": {},
   "outputs": [],
   "source": [
    "trainer = Trainer(stats_classifier,\n",
    "                  loss_function = nn.CrossEntropyLoss(),\n",
    "                  optimizer=optim.SGD(stats_classifier.parameters(), lr=0.01),\n",
    "                  num_epochs=50)"
   ]
  },
  {
   "cell_type": "code",
   "execution_count": 15,
   "id": "9f15bbff",
   "metadata": {},
   "outputs": [
    {
     "data": {
      "application/vnd.jupyter.widget-view+json": {
       "model_id": "831decff955f46ca89f9fb1d97fbbbf6",
       "version_major": 2,
       "version_minor": 0
      },
      "text/plain": [
       "  0%|          | 0/50 [00:00<?, ?it/s]"
      ]
     },
     "metadata": {},
     "output_type": "display_data"
    },
    {
     "name": "stdout",
     "output_type": "stream",
     "text": [
      "Avg training loss at epoch 0: 1.1031299733992388\n",
      "Avg training accuracy at epoch 0: 0.2714793281653747\n",
      "Training f1_score at epoch 0: 0.14378571066022752\n",
      "\n",
      "Validation loss at epoch 0: 1.0899787271344983\n",
      "Validation accuracy at epoch 0: 0.3581081081081081\n",
      "Validation f1_score at epoch 0: 0.18869548489412516\n",
      "\n",
      "\n",
      "Avg training loss at epoch 5: 1.0127270722266009\n",
      "Avg training accuracy at epoch 5: 0.5335917312661499\n",
      "Training f1_score at epoch 5: 0.42602065782733445\n",
      "\n",
      "Validation loss at epoch 5: 1.016186946147197\n",
      "Validation accuracy at epoch 5: 0.5202702702702703\n",
      "Validation f1_score at epoch 5: 0.49796345570457473\n",
      "\n",
      "\n",
      "Avg training loss at epoch 10: 0.9180771820920999\n",
      "Avg training accuracy at epoch 10: 0.6342054263565892\n",
      "Training f1_score at epoch 10: 0.5638475774833794\n",
      "\n",
      "Validation loss at epoch 10: 0.9197014054736575\n",
      "Validation accuracy at epoch 10: 0.625\n",
      "Validation f1_score at epoch 10: 0.6061577311577312\n",
      "\n",
      "\n",
      "Avg training loss at epoch 15: 0.8902763738188633\n",
      "Avg training accuracy at epoch 15: 0.6522932816537468\n",
      "Training f1_score at epoch 15: 0.606578731585914\n",
      "\n",
      "Validation loss at epoch 15: 0.8939315402829969\n",
      "Validation accuracy at epoch 15: 0.6621621621621622\n",
      "Validation f1_score at epoch 15: 0.6561440948472412\n",
      "\n",
      "\n",
      "Avg training loss at epoch 20: 0.8718380261145204\n",
      "Avg training accuracy at epoch 20: 0.6721576227390181\n",
      "Training f1_score at epoch 20: 0.6417257905311372\n",
      "\n",
      "Validation loss at epoch 20: 0.8745917693988697\n",
      "Validation accuracy at epoch 20: 0.6756756756756757\n",
      "Validation f1_score at epoch 20: 0.6695711328745588\n",
      "\n",
      "\n",
      "Avg training loss at epoch 25: 0.8561354017688938\n",
      "Avg training accuracy at epoch 25: 0.6949289405684754\n",
      "Training f1_score at epoch 25: 0.6755953552945185\n",
      "\n",
      "Validation loss at epoch 25: 0.8634918767052728\n",
      "Validation accuracy at epoch 25: 0.7027027027027027\n",
      "Validation f1_score at epoch 25: 0.6988967986345281\n",
      "\n",
      "\n",
      "Avg training loss at epoch 30: 0.8445505755508285\n",
      "Avg training accuracy at epoch 30: 0.7034883720930233\n",
      "Training f1_score at epoch 30: 0.6855532910480236\n",
      "\n",
      "Validation loss at epoch 30: 0.8608642510465674\n",
      "Validation accuracy at epoch 30: 0.6993243243243243\n",
      "Validation f1_score at epoch 30: 0.6964104823382078\n",
      "\n",
      "\n",
      "Avg training loss at epoch 35: 0.8348372843530443\n",
      "Avg training accuracy at epoch 35: 0.7185077519379846\n",
      "Training f1_score at epoch 35: 0.7015071848607471\n",
      "\n",
      "Validation loss at epoch 35: 0.8532917209573694\n",
      "Validation accuracy at epoch 35: 0.7128378378378378\n",
      "Validation f1_score at epoch 35: 0.7055556578514371\n",
      "\n",
      "\n",
      "Avg training loss at epoch 40: 0.8268258146537367\n",
      "Avg training accuracy at epoch 40: 0.727390180878553\n",
      "Training f1_score at epoch 40: 0.7103082032458915\n",
      "\n",
      "Validation loss at epoch 40: 0.8484946441006016\n",
      "Validation accuracy at epoch 40: 0.706081081081081\n",
      "Validation f1_score at epoch 40: 0.7012732096530979\n",
      "\n",
      "\n",
      "Avg training loss at epoch 45: 0.82068108973269\n",
      "Avg training accuracy at epoch 45: 0.7338501291989664\n",
      "Training f1_score at epoch 45: 0.717415466431547\n",
      "\n",
      "Validation loss at epoch 45: 0.8440217617395762\n",
      "Validation accuracy at epoch 45: 0.7195945945945946\n",
      "Validation f1_score at epoch 45: 0.7111002672243524\n",
      "\n",
      "\n"
     ]
    }
   ],
   "source": [
    "history = trainer.train(training_dataset, validation_dataset)"
   ]
  },
  {
   "cell_type": "markdown",
   "id": "4b8c8c3d",
   "metadata": {},
   "source": [
    "### Plots"
   ]
  },
  {
   "cell_type": "markdown",
   "id": "709009a2",
   "metadata": {},
   "source": [
    "#### Loss"
   ]
  },
  {
   "cell_type": "code",
   "execution_count": 16,
   "id": "e864443d",
   "metadata": {},
   "outputs": [
    {
     "data": {
      "image/png": "[encoded data removed]",
      "text/plain": [
       "<Figure size 640x480 with 1 Axes>"
      ]
     },
     "metadata": {},
     "output_type": "display_data"
    }
   ],
   "source": [
    "plt.title('CrossEntropy Loss - Plot')\n",
    "plt.plot(history[\"train_loss\"], label=\"training loss\")\n",
    "plt.plot(history[\"valid_loss\"], label=\"validation loss\")\n",
    "plt.legend()\n",
    "\n",
    "plt.show()"
   ]
  },
  {
   "cell_type": "markdown",
   "id": "914fe3e6",
   "metadata": {},
   "source": [
    "#### Accuracy"
   ]
  },
  {
   "cell_type": "code",
   "execution_count": 17,
   "id": "3639e7d4",
   "metadata": {},
   "outputs": [
    {
     "data": {
      "image/png": "[encoded data removed]",
      "text/plain": [
       "<Figure size 640x480 with 1 Axes>"
      ]
     },
     "metadata": {},
     "output_type": "display_data"
    }
   ],
   "source": [
    "plt.title(\"Accuracy - Plot\")\n",
    "plt.plot(history[\"train_accuracy\"], label=\"training accuracy\")\n",
    "plt.plot(history[\"valid_accuracy\"], label=\"validation accuracy\")\n",
    "plt.legend()\n",
    "\n",
    "plt.show()"
   ]
  },
  {
   "cell_type": "markdown",
   "id": "bdda8cba",
   "metadata": {},
   "source": [
    "#### F1-Score"
   ]
  },
  {
   "cell_type": "code",
   "execution_count": 18,
   "id": "a3317733",
   "metadata": {},
   "outputs": [
    {
     "data": {
      "image/png": "[encoded data removed]",
      "text/plain": [
       "<Figure size 640x480 with 1 Axes>"
      ]
     },
     "metadata": {},
     "output_type": "display_data"
    }
   ],
   "source": [
    "plt.title(\"F1-Score - Plot\")\n",
    "plt.plot(history[\"train_f1_score\"], label=\"train f1-score\")\n",
    "plt.plot(history[\"valid_f1_score\"], label=\"validation f1-score\")\n",
    "plt.legend()\n",
    "\n",
    "plt.show()"
   ]
  },
  {
   "cell_type": "markdown",
   "id": "fdd0052d",
   "metadata": {},
   "source": [
    "### Now, we save the model"
   ]
  },
  {
   "cell_type": "code",
   "execution_count": 19,
   "id": "1f7121a9",
   "metadata": {},
   "outputs": [],
   "source": [
    "state_dict = stats_classifier.state_dict()\n",
    "torch.save(state_dict, \"../models/stats_classifier.tar\")"
   ]
  }
 ],
 "metadata": {
  "kernelspec": {
   "display_name": "Python 3",
   "language": "python",
   "name": "python3"
  },
  "language_info": {
   "codemirror_mode": {
    "name": "ipython",
    "version": 3
   },
   "file_extension": ".py",
   "mimetype": "text/x-python",
   "name": "python",
   "nbconvert_exporter": "python",
   "pygments_lexer": "ipython3",
   "version": "3.10.12"
  }
 },
 "nbformat": 4,
 "nbformat_minor": 5
}
