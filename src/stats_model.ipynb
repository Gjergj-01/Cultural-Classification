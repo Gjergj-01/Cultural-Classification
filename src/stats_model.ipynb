{
 "cells": [
  {
   "cell_type": "code",
   "execution_count": 1,
   "metadata": {
    "executionInfo": {
     "elapsed": 6281,
     "status": "ok",
     "timestamp": 1746374017551,
     "user": {
      "displayName": "gjergj leka",
      "userId": "00061311852127832404"
     },
     "user_tz": -120
    },
    "id": "WjDsi_fv1IBR"
   },
   "outputs": [],
   "source": [
    "# pytorch\n",
    "import torch\n",
    "import torch.nn as nn\n",
    "import torch.nn.functional as F\n",
    "import torch.utils.data as data\n",
    "from torch.utils.data import Dataset, DataLoader\n",
    "import torch.optim as optim\n",
    "\n",
    "import pandas as pd\n",
    "import numpy as np\n",
    "\n",
    "import matplotlib.pyplot as plt\n",
    "\n",
    "from tqdm.notebook import tqdm\n",
    "\n",
    "# sklearn\n",
    "from sklearn.preprocessing import StandardScaler\n",
    "from sklearn.preprocessing import OneHotEncoder\n",
    "from sklearn.compose import ColumnTransformer\n",
    "from sklearn.metrics import f1_score"
   ]
  },
  {
   "cell_type": "code",
   "execution_count": null,
   "metadata": {
    "colab": {
     "base_uri": "https://localhost:8080/"
    },
    "executionInfo": {
     "elapsed": 20443,
     "status": "ok",
     "timestamp": 1746374042477,
     "user": {
      "displayName": "gjergj leka",
      "userId": "00061311852127832404"
     },
     "user_tz": -120
    },
    "id": "g_nw36AC1k27",
    "outputId": "62f9c67a-7fe3-4d6f-a8df-18ced21f36c2"
   },
   "outputs": [],
   "source": [
    "#from google.colab import drive\n",
    "#drive.mount('/content/drive')"
   ]
  },
  {
   "cell_type": "markdown",
   "metadata": {
    "id": "JmmRq5IH2B8H"
   },
   "source": [
    "### Statistical information\n",
    "In this notebook we treat the statistical data. The goal will be to train a `MLP` that we'll then use to extract a vectorized representation of the statistical data of each item."
   ]
  },
  {
   "cell_type": "code",
   "execution_count": 2,
   "metadata": {
    "executionInfo": {
     "elapsed": 2087,
     "status": "ok",
     "timestamp": 1746374083416,
     "user": {
      "displayName": "gjergj leka",
      "userId": "00061311852127832404"
     },
     "user_tz": -120
    },
    "id": "xwZGHM4S2hoF"
   },
   "outputs": [],
   "source": [
    "# Load the unified datasets\n",
    "train_stats = pd.read_csv('../datasets/statistics/train_stats.csv')\n",
    "val_stats = pd.read_csv('../datasets/statistics/val_stats.csv')"
   ]
  },
  {
   "cell_type": "markdown",
   "metadata": {
    "id": "za3Sv-wP3xlh"
   },
   "source": [
    "In the silver stats are stored the following infos:\n",
    "\n",
    "We have columns that store information about the text distribution, and more precisely we have the following attributes:\n",
    "- text_distribution: array storing length of wikipedia texts relative to the item\n",
    "- avg_text: mean of the text distribution quantity\n",
    "- std_text: standard deviation of the distrinution quantity\n",
    "- len: number of wikipedia links connected to the item\n",
    "- entropy_text: entropy computed on the text_distrinution\n",
    "- gini_text: gini's index computed on text_distribution\n",
    "- sum_over_texts: sum of the values in text distribution\n",
    "\n",
    "\n",
    "Then we have another set of columns storing data about the references to each item's wikipedia page. So similarly to before we have:\n",
    "- ref_distribution: array storing the number of references to each item wikipedia page\n",
    "- avg_ref: mean of the ref_distribution quantity\n",
    "- std_ref: standard deviation of the ref_distribution quantity\n",
    "- entropy_ref: entropy computed on the ref_distrbution\n",
    "- gini_ref: gini's index computed on the ref_distribution\n",
    "- sum_over_ref: sum of the values in the ref_didtribution quantity\n",
    "\n",
    "Finally, we have otther four columns:\n",
    "- h_adj_descr: euristic counting the number of attributes (italian, chinese, english,...) on the description\n",
    "- h_nat_descr: euristic counting the number of nations in the description of the item\n",
    "- h_adj_engtext: euristic counting the number of attributes (italian, chinese, english,...) on the english wikipedia text\n",
    "- h_nat_engtext: euristic counting the number of nations in the english wikipedia text."
   ]
  },
  {
   "cell_type": "code",
   "execution_count": 3,
   "metadata": {
    "executionInfo": {
     "elapsed": 50,
     "status": "ok",
     "timestamp": 1746374128062,
     "user": {
      "displayName": "gjergj leka",
      "userId": "00061311852127832404"
     },
     "user_tz": -120
    },
    "id": "0xr2iY3n3w6s"
   },
   "outputs": [],
   "source": [
    "encoder = OneHotEncoder(sparse_output=False, handle_unknown='ignore')\n",
    "\n",
    "categorical_features = ['type', 'category', 'subcategory']\n",
    "stats_features = ['std_text', 'avg_text', 'len', 'entropy_text', 'gini_text',\n",
    "       'sum_over_texts', 'std_ref', 'avg_ref', 'sum_over_ref', 'entropy_ref',\n",
    "       'gini_ref', 'h_adj_descr', 'h_nat_descr', 'h_adj_engtext',\n",
    "       'h_nat_engtext']\n"
   ]
  },
  {
   "cell_type": "code",
   "execution_count": 4,
   "metadata": {
    "executionInfo": {
     "elapsed": 40,
     "status": "ok",
     "timestamp": 1746374133186,
     "user": {
      "displayName": "gjergj leka",
      "userId": "00061311852127832404"
     },
     "user_tz": -120
    },
    "id": "-Vm6Lf_J383T"
   },
   "outputs": [],
   "source": [
    "# Here we are going to drop the text_distribution and ref_distribution columns.\n",
    "# We do so because they have a different type of data structure (array) with respect\n",
    "# to the other attributes (scalars) and so it is a bit more complicated to deal with\n",
    "# both kind of data. Moreover, there are other attributes store all the relevant information\n",
    "# about these two distributions. Then we also dropping the 'item', 'name' and 'label' column\n",
    "\n",
    "train_labels = train_stats['label']\n",
    "train_stats = train_stats.drop(columns=['item', 'name', 'label',\n",
    "                                          'countryLabel', 'subclass_ofLabel', 'text_distribution',\n",
    "                                          'ref_distribution'])\n",
    "val_labels = val_stats['label']\n",
    "val_stats = val_stats.drop(columns=['item', 'name', 'label',\n",
    "                                          'countryLabel', 'subclass_ofLabel', 'text_distribution',\n",
    "                                          'ref_distribution'])"
   ]
  },
  {
   "cell_type": "markdown",
   "metadata": {
    "id": "0cLkpssj4EBD"
   },
   "source": [
    "To deal with the categorical features, we are going to use the `encoder` module from `sklearn` that performes a **one-hot** encoding. For the statistical features instead, we are going to use the `StandardScaler` module, still from `sklearn`, that applies the following transformation to the data:\n",
    "$$\\tilde{x} = \\frac{x - \\mu}{\\sigma}$$\n",
    "where $\\mu$ is the mean of the trainig samples and $\\sigma$ the standard deviation.\n",
    "\n",
    "Then, we use the `ColumnTranformer` module that simplifies considerably the process."
   ]
  },
  {
   "cell_type": "code",
   "execution_count": 5,
   "metadata": {
    "executionInfo": {
     "elapsed": 68,
     "status": "ok",
     "timestamp": 1746374136775,
     "user": {
      "displayName": "gjergj leka",
      "userId": "00061311852127832404"
     },
     "user_tz": -120
    },
    "id": "fba9J9-k5O_V"
   },
   "outputs": [],
   "source": [
    "ct = ColumnTransformer(\n",
    "    [(\"text_preprocess\", encoder, categorical_features),\n",
    "     ('stats_preprocess', StandardScaler(), stats_features)]\n",
    ")\n",
    "\n",
    "## tranformerd datasets\n",
    "transformed_train_dataset = ct.fit_transform(train_stats)\n",
    "transformed_val_dataset = ct.transform(val_stats)"
   ]
  },
  {
   "cell_type": "markdown",
   "metadata": {
    "id": "pDJkuOSN5Tv5"
   },
   "source": [
    "### Model definition"
   ]
  },
  {
   "cell_type": "code",
   "execution_count": 6,
   "metadata": {
    "executionInfo": {
     "elapsed": 20,
     "status": "ok",
     "timestamp": 1746374139869,
     "user": {
      "displayName": "gjergj leka",
      "userId": "00061311852127832404"
     },
     "user_tz": -120
    },
    "id": "P6grnlsG5Xjd"
   },
   "outputs": [],
   "source": [
    "class StatsClassifier(nn.Module):\n",
    "    '''\n",
    "    input_dim = 144 (the number of attributes resulting after the one-hot encoding)\n",
    "    hidden1 = 70\n",
    "    hidden2 = 10\n",
    "    out_dim = 3, the number of classes to predict\n",
    "    '''\n",
    "    def __init__(self, input_dim, hidden1, hidden2, out_dim):\n",
    "        super().__init__()\n",
    "        self.fc1 = nn.Linear(input_dim, hidden1)\n",
    "        self.fc2 = nn.Linear(hidden1, hidden2)\n",
    "        self.fc3 = nn.Linear(hidden2, out_dim)\n",
    "\n",
    "        self.act_fn = nn.ReLU()\n",
    "        self.softmax = nn.Softmax(dim=1)\n",
    "\n",
    "    def forward(self, x):\n",
    "        x = self.fc1(x)\n",
    "        x = self.act_fn(x)\n",
    "        x = self.fc2(x)\n",
    "        x = self.act_fn(x)\n",
    "        x = self.fc3(x)\n",
    "        x = self.softmax(x)\n",
    "\n",
    "        return x"
   ]
  },
  {
   "cell_type": "code",
   "execution_count": 7,
   "metadata": {
    "executionInfo": {
     "elapsed": 62,
     "status": "ok",
     "timestamp": 1746374143945,
     "user": {
      "displayName": "gjergj leka",
      "userId": "00061311852127832404"
     },
     "user_tz": -120
    },
    "id": "DFBQ8cjl5cVu"
   },
   "outputs": [],
   "source": [
    "stats_classifier = StatsClassifier(input_dim=144, hidden1=70, hidden2=10, out_dim=3)"
   ]
  },
  {
   "cell_type": "markdown",
   "metadata": {
    "id": "PyK2K0GJ5fmg"
   },
   "source": [
    "### Data preparation\n",
    "In the following we are going to prepare the dataset. We will \"compact\" the data in a similar way as we did with the properties. For each item ee will have a dictionary with the keys `{'inputs': vector, 'outputs': label}`."
   ]
  },
  {
   "cell_type": "code",
   "execution_count": 8,
   "metadata": {
    "executionInfo": {
     "elapsed": 28,
     "status": "ok",
     "timestamp": 1746374160025,
     "user": {
      "displayName": "gjergj leka",
      "userId": "00061311852127832404"
     },
     "user_tz": -120
    },
    "id": "PnRplLxk6G8Y"
   },
   "outputs": [],
   "source": [
    "mapping = {'cultural agnostic': 0, 'cultural representative': 1, 'cultural exclusive': 2}"
   ]
  },
  {
   "cell_type": "code",
   "execution_count": 9,
   "metadata": {
    "executionInfo": {
     "elapsed": 23,
     "status": "ok",
     "timestamp": 1746374161777,
     "user": {
      "displayName": "gjergj leka",
      "userId": "00061311852127832404"
     },
     "user_tz": -120
    },
    "id": "wvxA38Rc6Oh6"
   },
   "outputs": [],
   "source": [
    "class StatsDataset(data.Dataset):\n",
    "\n",
    "    def __init__(self, data, labels):\n",
    "        self.num_samples = len(data)\n",
    "\n",
    "        # training data is a list of dictionaries, where, as said before,\n",
    "        # each dictionary contains two keys: 'inputs' and 'outputs'\n",
    "\n",
    "        self.data = []\n",
    "        for i in range(self.num_samples):\n",
    "            vector = torch.tensor(data[i], dtype=torch.float32)\n",
    "            label = torch.tensor(mapping[labels.loc[i]])\n",
    "\n",
    "            sample = {'inputs': vector, 'outputs': label}\n",
    "            self.data.append(sample)\n",
    "\n",
    "    def __len__(self):\n",
    "        return self.num_samples\n",
    "\n",
    "    def __getitem__(self, index):\n",
    "        return self.data[index]\n"
   ]
  },
  {
   "cell_type": "code",
   "execution_count": 10,
   "metadata": {
    "executionInfo": {
     "elapsed": 335,
     "status": "ok",
     "timestamp": 1746374168062,
     "user": {
      "displayName": "gjergj leka",
      "userId": "00061311852127832404"
     },
     "user_tz": -120
    },
    "id": "CJ_rXZ5V6KKz"
   },
   "outputs": [],
   "source": [
    "# Now we can generate the datasets\n",
    "training_samples = StatsDataset(data=transformed_train_dataset, labels=train_labels)\n",
    "validation_samples = StatsDataset(data=transformed_val_dataset, labels=val_labels)"
   ]
  },
  {
   "cell_type": "markdown",
   "metadata": {
    "id": "-J7r5UsQ6VUl"
   },
   "source": [
    "### The Trainer class"
   ]
  },
  {
   "cell_type": "code",
   "execution_count": 11,
   "metadata": {
    "executionInfo": {
     "elapsed": 85,
     "status": "ok",
     "timestamp": 1746374217187,
     "user": {
      "displayName": "gjergj leka",
      "userId": "00061311852127832404"
     },
     "user_tz": -120
    },
    "id": "oMOIl-QWiPNZ"
   },
   "outputs": [],
   "source": [
    "class Trainer():\n",
    "\n",
    "    def __init__(self, model, loss_function, optimizer, num_epochs):\n",
    "        self.model = model\n",
    "        self.loss_function = loss_function\n",
    "        self.optimizer = optimizer\n",
    "        self.num_epochs = num_epochs\n",
    "\n",
    "    def compute_f1_score(self, predictions, labels):\n",
    "        discrete_predictions = [preds.detach().clone().argmax(dim=1) for preds in predictions]\n",
    "        discrete_predictions = np.array(discrete_predictions)\n",
    "        labels_array = np.array(labels)\n",
    "\n",
    "        f1 = f1_score(labels_array.flatten(), discrete_predictions.flatten(), average='macro')\n",
    "        return f1\n",
    "\n",
    "\n",
    "    def compute_accuracy(self, predictions, labels):\n",
    "        discrete_predictions = predictions.detach().clone()\n",
    "        discrete_predictions = discrete_predictions.argmax(dim=1)\n",
    "\n",
    "        return torch.mean(torch.Tensor([1 if p==l else 0 for p, l in list(zip(discrete_predictions.view(-1), labels.view(-1)))])).item()\n",
    "\n",
    "    def train(self, train_dataset, valid_dataset):\n",
    "        train_loss = []\n",
    "        train_accuracy = []\n",
    "        train_f1_score = []\n",
    "        valid_loss = []\n",
    "        valid_accuracy = []\n",
    "        valid_f1_score = []\n",
    "\n",
    "        for epoch in tqdm(range(self.num_epochs)):\n",
    "            epoch_loss = 0.0\n",
    "            epoch_accuracy = 0.0\n",
    "            epoch_f1_score = 0.0\n",
    "\n",
    "            epoch_predictions = []\n",
    "            epoch_labels = []\n",
    "\n",
    "            for step, sample in enumerate(train_dataset):\n",
    "                inputs = sample['inputs']\n",
    "                labels = sample['outputs']\n",
    "\n",
    "                # set the gradients to zero\n",
    "                self.optimizer.zero_grad()\n",
    "\n",
    "                # compute the predictions\n",
    "                predictions = self.model(inputs)\n",
    "                epoch_predictions.append(predictions)\n",
    "\n",
    "                labels = labels.view(-1).long()\n",
    "                epoch_labels.append(labels)\n",
    "\n",
    "                #compute the loss\n",
    "                sample_loss = self.loss_function(predictions, labels)\n",
    "\n",
    "                sample_loss.backward()\n",
    "                self.optimizer.step()\n",
    "\n",
    "                epoch_loss += sample_loss.tolist()\n",
    "                epoch_accuracy += self.compute_accuracy(predictions, labels)\n",
    "\n",
    "\n",
    "\n",
    "            avg_epoch_loss = epoch_loss / len(train_dataset)\n",
    "            avg_epoch_accuracy = epoch_accuracy / len(train_dataset)\n",
    "            epoch_f1_score = self.compute_f1_score(epoch_predictions, epoch_labels)\n",
    "\n",
    "\n",
    "            print(f'Avg training loss at epoch {epoch}: {avg_epoch_loss}')\n",
    "            print(f'Avg training accuracy at epoch {epoch}: {avg_epoch_accuracy}')\n",
    "            print(f'Training f1_score at epoch {epoch}: {epoch_f1_score}\\n')\n",
    "\n",
    "            valid_loss_epoch, valid_accuracy_epoch, valid_f1_score_epoch = self.evaluate(valid_dataset)\n",
    "\n",
    "            print(f'Validation loss at epoch {epoch}: {valid_loss_epoch}')\n",
    "            print(f'Validation accuracy at epoch {epoch}: {valid_accuracy_epoch}')\n",
    "            print(f'Validation f1_score at epoch {epoch}: {valid_f1_score_epoch}\\n\\n')\n",
    "\n",
    "            ## training scores\n",
    "            train_loss.append(avg_epoch_loss)\n",
    "            train_accuracy.append(avg_epoch_accuracy)\n",
    "            train_f1_score.append(epoch_f1_score)\n",
    "\n",
    "            ## validation scores\n",
    "            valid_loss.append(valid_loss_epoch)\n",
    "            valid_accuracy.append(valid_accuracy_epoch)\n",
    "            valid_f1_score.append(valid_f1_score_epoch)\n",
    "\n",
    "\n",
    "        return {\n",
    "            \"train_loss\": train_loss,\n",
    "            \"train_accuracy\": train_accuracy,\n",
    "            \"train_f1_score\": train_f1_score,\n",
    "            \"valid_loss\": valid_loss,\n",
    "            \"valid_accuracy\": valid_accuracy,\n",
    "            \"valid_f1_score\": valid_f1_score\n",
    "            }\n",
    "\n",
    "\n",
    "    def evaluate(self, validation_dataset):\n",
    "        valid_loss = 0.0\n",
    "        validation_accuracy = 0.0\n",
    "        valid_f1_score = 0.0\n",
    "\n",
    "        predictions_list = []\n",
    "        labels_list = []\n",
    "\n",
    "        with torch.no_grad():\n",
    "            for sample in validation_dataset:\n",
    "                inputs = sample['inputs']\n",
    "                labels = sample['outputs']\n",
    "\n",
    "                predictions = self.model(inputs)\n",
    "                predictions_list.append(predictions)\n",
    "\n",
    "                labels = labels.view(-1).long()\n",
    "                labels_list.append(labels)\n",
    "\n",
    "                sample_loss = self.loss_function(predictions, labels)\n",
    "                valid_loss += sample_loss.tolist()\n",
    "\n",
    "                validation_accuracy += self.compute_accuracy(predictions, labels)\n",
    "\n",
    "\n",
    "        avg_valid_loss = valid_loss / len(validation_dataset)\n",
    "        avg_valid_accuracy = validation_accuracy / len(validation_dataset)\n",
    "        valid_f1_score = self.compute_f1_score(predictions_list, labels_list)\n",
    "\n",
    "        return avg_valid_loss, avg_valid_accuracy, valid_f1_score"
   ]
  },
  {
   "cell_type": "code",
   "execution_count": 12,
   "metadata": {
    "executionInfo": {
     "elapsed": 4,
     "status": "ok",
     "timestamp": 1746374224155,
     "user": {
      "displayName": "gjergj leka",
      "userId": "00061311852127832404"
     },
     "user_tz": -120
    },
    "id": "9bn7cUVs6j3h"
   },
   "outputs": [],
   "source": [
    "# Before training we load the data using the DataLoader module\n",
    "training_dataset = DataLoader(training_samples, batch_size=16, shuffle=True, drop_last=True)\n",
    "validation_dataset = DataLoader(validation_samples, batch_size=8, drop_last=True)"
   ]
  },
  {
   "cell_type": "code",
   "execution_count": 13,
   "metadata": {
    "executionInfo": {
     "elapsed": 5739,
     "status": "ok",
     "timestamp": 1746374232287,
     "user": {
      "displayName": "gjergj leka",
      "userId": "00061311852127832404"
     },
     "user_tz": -120
    },
    "id": "sSZiduLR6mWU"
   },
   "outputs": [],
   "source": [
    "trainer = Trainer(stats_classifier,\n",
    "                  loss_function = nn.CrossEntropyLoss(),\n",
    "                  optimizer=optim.SGD(stats_classifier.parameters(), lr=0.01),\n",
    "                  num_epochs=50)"
   ]
  },
  {
   "cell_type": "code",
   "execution_count": 14,
   "metadata": {
    "colab": {
     "base_uri": "https://localhost:8080/",
     "height": 1000,
     "referenced_widgets": [
      "aedebca0b3f342ebb9ec91ec99fdda39",
      "744cb797bc1043bda57d56bcad60da2b",
      "dd83fecb6c0f4bdd908ac08e35e04353",
      "1ae95f17f0fd4bfeb7d76c1c38d8bc7f",
      "a88426886b7d4eb789286d407ed7b4f1",
      "efb0b89624914d2984e13aad7ce6d752",
      "463d7b2e861249899ab81e8b06384af2",
      "eee15e3d6882401794fb0295d9a6b468",
      "335ebe8822bf412b9330e5045cd8959c",
      "f204489857c742e79658c8ed5dd169e3",
      "9e4c04f5c83d48e2ae49ff6609c7d353"
     ]
    },
    "executionInfo": {
     "elapsed": 28864,
     "status": "ok",
     "timestamp": 1746374265475,
     "user": {
      "displayName": "gjergj leka",
      "userId": "00061311852127832404"
     },
     "user_tz": -120
    },
    "id": "_42gOWxn6r_7",
    "outputId": "51029b52-5f76-487c-9f1f-64605a8c8a28"
   },
   "outputs": [
    {
     "data": {
      "application/vnd.jupyter.widget-view+json": {
       "model_id": "c5e14de0f68d41fe8cab62eb89b16485",
       "version_major": 2,
       "version_minor": 0
      },
      "text/plain": [
       "  0%|          | 0/50 [00:00<?, ?it/s]"
      ]
     },
     "metadata": {},
     "output_type": "display_data"
    },
    {
     "name": "stdout",
     "output_type": "stream",
     "text": [
      "Avg training loss at epoch 0: 1.094265074384921\n",
      "Avg training accuracy at epoch 0: 0.3872739018087855\n",
      "Training f1_score at epoch 0: 0.25508436974023757\n",
      "\n",
      "Validation loss at epoch 0: 1.1071912340215735\n",
      "Validation accuracy at epoch 0: 0.25675675675675674\n",
      "Validation f1_score at epoch 0: 0.1471718293636102\n",
      "\n",
      "\n",
      "Avg training loss at epoch 1: 1.0845413562247304\n",
      "Avg training accuracy at epoch 1: 0.4349160206718346\n",
      "Training f1_score at epoch 1: 0.21571729708710966\n",
      "\n",
      "Validation loss at epoch 1: 1.1059153144424025\n",
      "Validation accuracy at epoch 1: 0.28378378378378377\n",
      "Validation f1_score at epoch 1: 0.1939550273689706\n",
      "\n",
      "\n",
      "Avg training loss at epoch 2: 1.0753506511372806\n",
      "Avg training accuracy at epoch 2: 0.43943798449612403\n",
      "Training f1_score at epoch 2: 0.22772514188260773\n",
      "\n",
      "Validation loss at epoch 2: 1.1014730865890916\n",
      "Validation accuracy at epoch 2: 0.2939189189189189\n",
      "Validation f1_score at epoch 2: 0.20906741836974393\n",
      "\n",
      "\n",
      "Avg training loss at epoch 3: 1.0650271633182693\n",
      "Avg training accuracy at epoch 3: 0.4444444444444444\n",
      "Training f1_score at epoch 3: 0.24186010878725198\n",
      "\n",
      "Validation loss at epoch 3: 1.0927127132544647\n",
      "Validation accuracy at epoch 3: 0.31756756756756754\n",
      "Validation f1_score at epoch 3: 0.24278745835300233\n",
      "\n",
      "\n",
      "Avg training loss at epoch 4: 1.052198351353638\n",
      "Avg training accuracy at epoch 4: 0.45219638242894056\n",
      "Training f1_score at epoch 4: 0.26294300164002227\n",
      "\n",
      "Validation loss at epoch 4: 1.0792747123821362\n",
      "Validation accuracy at epoch 4: 0.3344594594594595\n",
      "Validation f1_score at epoch 4: 0.26167396289347505\n",
      "\n",
      "\n",
      "Avg training loss at epoch 5: 1.0362594230846534\n",
      "Avg training accuracy at epoch 5: 0.46107881136950907\n",
      "Training f1_score at epoch 5: 0.28445342502287324\n",
      "\n",
      "Validation loss at epoch 5: 1.0615607918919743\n",
      "Validation accuracy at epoch 5: 0.3547297297297297\n",
      "Validation f1_score at epoch 5: 0.2842588257327465\n",
      "\n",
      "\n",
      "Avg training loss at epoch 6: 1.0179434464883435\n",
      "Avg training accuracy at epoch 6: 0.4738372093023256\n",
      "Training f1_score at epoch 6: 0.31383519257418363\n",
      "\n",
      "Validation loss at epoch 6: 1.0405414088352307\n",
      "Validation accuracy at epoch 6: 0.40878378378378377\n",
      "Validation f1_score at epoch 6: 0.3615503282632752\n",
      "\n",
      "\n",
      "Avg training loss at epoch 7: 0.9976779059230203\n",
      "Avg training accuracy at epoch 7: 0.5356912144702842\n",
      "Training f1_score at epoch 7: 0.4402624677702653\n",
      "\n",
      "Validation loss at epoch 7: 1.0154762268066406\n",
      "Validation accuracy at epoch 7: 0.5337837837837838\n",
      "Validation f1_score at epoch 7: 0.5291935559847378\n",
      "\n",
      "\n",
      "Avg training loss at epoch 8: 0.9752314506575118\n",
      "Avg training accuracy at epoch 8: 0.6065891472868217\n",
      "Training f1_score at epoch 8: 0.5415580433496174\n",
      "\n",
      "Validation loss at epoch 8: 0.9852818041234404\n",
      "Validation accuracy at epoch 8: 0.5844594594594594\n",
      "Validation f1_score at epoch 8: 0.5757888238221183\n",
      "\n",
      "\n",
      "Avg training loss at epoch 9: 0.9522579523328046\n",
      "Avg training accuracy at epoch 9: 0.6293604651162791\n",
      "Training f1_score at epoch 9: 0.5628908695312188\n",
      "\n",
      "Validation loss at epoch 9: 0.9587520828118196\n",
      "Validation accuracy at epoch 9: 0.6013513513513513\n",
      "Validation f1_score at epoch 9: 0.5872190185548487\n",
      "\n",
      "\n",
      "Avg training loss at epoch 10: 0.933577326225064\n",
      "Avg training accuracy at epoch 10: 0.6319444444444444\n",
      "Training f1_score at epoch 10: 0.5649132905081075\n",
      "\n",
      "Validation loss at epoch 10: 0.9405815375817789\n",
      "Validation accuracy at epoch 10: 0.6013513513513513\n",
      "Validation f1_score at epoch 10: 0.5860626453971419\n",
      "\n",
      "\n",
      "Avg training loss at epoch 11: 0.9208870533208823\n",
      "Avg training accuracy at epoch 11: 0.6340439276485789\n",
      "Training f1_score at epoch 11: 0.5695664596359751\n",
      "\n",
      "Validation loss at epoch 11: 0.9281355432561926\n",
      "Validation accuracy at epoch 11: 0.6081081081081081\n",
      "Validation f1_score at epoch 11: 0.5943773527355277\n",
      "\n",
      "\n",
      "Avg training loss at epoch 12: 0.9119894093321276\n",
      "Avg training accuracy at epoch 12: 0.6374354005167958\n",
      "Training f1_score at epoch 12: 0.5767710826283019\n",
      "\n",
      "Validation loss at epoch 12: 0.9185810491845414\n",
      "Validation accuracy at epoch 12: 0.6216216216216216\n",
      "Validation f1_score at epoch 12: 0.6083675175067776\n",
      "\n",
      "\n",
      "Avg training loss at epoch 13: 0.9051671519451979\n",
      "Avg training accuracy at epoch 13: 0.6406653746770026\n",
      "Training f1_score at epoch 13: 0.5835944367524066\n",
      "\n",
      "Validation loss at epoch 13: 0.9113505498783009\n",
      "Validation accuracy at epoch 13: 0.6317567567567568\n",
      "Validation f1_score at epoch 13: 0.6176941288935508\n",
      "\n",
      "\n",
      "Avg training loss at epoch 14: 0.8990702724580001\n",
      "Avg training accuracy at epoch 14: 0.6434108527131783\n",
      "Training f1_score at epoch 14: 0.5901089337918274\n",
      "\n",
      "Validation loss at epoch 14: 0.9049448225949261\n",
      "Validation accuracy at epoch 14: 0.6554054054054054\n",
      "Validation f1_score at epoch 14: 0.6473212907210129\n",
      "\n",
      "\n",
      "Avg training loss at epoch 15: 0.8938523061207715\n",
      "Avg training accuracy at epoch 15: 0.6482558139534884\n",
      "Training f1_score at epoch 15: 0.5993485841402655\n",
      "\n",
      "Validation loss at epoch 15: 0.9006631213265497\n",
      "Validation accuracy at epoch 15: 0.6587837837837838\n",
      "Validation f1_score at epoch 15: 0.6512031741620568\n",
      "\n",
      "\n",
      "Avg training loss at epoch 16: 0.8893527713548921\n",
      "Avg training accuracy at epoch 16: 0.6545542635658915\n",
      "Training f1_score at epoch 16: 0.6115690894704747\n",
      "\n",
      "Validation loss at epoch 16: 0.8956477690387417\n",
      "Validation accuracy at epoch 16: 0.668918918918919\n",
      "Validation f1_score at epoch 16: 0.6637443090931463\n",
      "\n",
      "\n",
      "Avg training loss at epoch 17: 0.8852621554096232\n",
      "Avg training accuracy at epoch 17: 0.6569767441860465\n",
      "Training f1_score at epoch 17: 0.6165387632799307\n",
      "\n",
      "Validation loss at epoch 17: 0.8907372580992209\n",
      "Validation accuracy at epoch 17: 0.6756756756756757\n",
      "Validation f1_score at epoch 17: 0.6699027139653682\n",
      "\n",
      "\n",
      "Avg training loss at epoch 18: 0.8818632656905694\n",
      "Avg training accuracy at epoch 18: 0.6585917312661499\n",
      "Training f1_score at epoch 18: 0.6198678952515766\n",
      "\n",
      "Validation loss at epoch 18: 0.8855194159456201\n",
      "Validation accuracy at epoch 18: 0.6790540540540541\n",
      "Validation f1_score at epoch 18: 0.6720997750798614\n",
      "\n",
      "\n",
      "Avg training loss at epoch 19: 0.8786018804986347\n",
      "Avg training accuracy at epoch 19: 0.6610142118863049\n",
      "Training f1_score at epoch 19: 0.6231597762699026\n",
      "\n",
      "Validation loss at epoch 19: 0.8841422151874851\n",
      "Validation accuracy at epoch 19: 0.6790540540540541\n",
      "Validation f1_score at epoch 19: 0.6743142810215982\n",
      "\n",
      "\n",
      "Avg training loss at epoch 20: 0.8754908762852966\n",
      "Avg training accuracy at epoch 20: 0.6645671834625323\n",
      "Training f1_score at epoch 20: 0.630180325605007\n",
      "\n",
      "Validation loss at epoch 20: 0.8795112774178788\n",
      "Validation accuracy at epoch 20: 0.6891891891891891\n",
      "Validation f1_score at epoch 20: 0.682623106060606\n",
      "\n",
      "\n",
      "Avg training loss at epoch 21: 0.8725847035107378\n",
      "Avg training accuracy at epoch 21: 0.6650516795865633\n",
      "Training f1_score at epoch 21: 0.6317879594277185\n",
      "\n",
      "Validation loss at epoch 21: 0.8775645413914243\n",
      "Validation accuracy at epoch 21: 0.6891891891891891\n",
      "Validation f1_score at epoch 21: 0.6831159738046746\n",
      "\n",
      "\n",
      "Avg training loss at epoch 22: 0.8695018996872027\n",
      "Avg training accuracy at epoch 22: 0.6703811369509044\n",
      "Training f1_score at epoch 22: 0.6397217798618837\n",
      "\n",
      "Validation loss at epoch 22: 0.8755728521862546\n",
      "Validation accuracy at epoch 22: 0.6925675675675675\n",
      "Validation f1_score at epoch 22: 0.6858542494731754\n",
      "\n",
      "\n",
      "Avg training loss at epoch 23: 0.8664858091709225\n",
      "Avg training accuracy at epoch 23: 0.6766795865633075\n",
      "Training f1_score at epoch 23: 0.6497595297577462\n",
      "\n",
      "Validation loss at epoch 23: 0.8729464878907075\n",
      "Validation accuracy at epoch 23: 0.6891891891891891\n",
      "Validation f1_score at epoch 23: 0.6821784420289855\n",
      "\n",
      "\n",
      "Avg training loss at epoch 24: 0.8633931881389568\n",
      "Avg training accuracy at epoch 24: 0.6826550387596899\n",
      "Training f1_score at epoch 24: 0.6581936318622587\n",
      "\n",
      "Validation loss at epoch 24: 0.8710396450919073\n",
      "Validation accuracy at epoch 24: 0.6925675675675675\n",
      "Validation f1_score at epoch 24: 0.6868145585337185\n",
      "\n",
      "\n",
      "Avg training loss at epoch 25: 0.8605319383224468\n",
      "Avg training accuracy at epoch 25: 0.6883074935400517\n",
      "Training f1_score at epoch 25: 0.6652954383541422\n",
      "\n",
      "Validation loss at epoch 25: 0.8681304197053652\n",
      "Validation accuracy at epoch 25: 0.6993243243243243\n",
      "Validation f1_score at epoch 25: 0.6927329192546584\n",
      "\n",
      "\n",
      "Avg training loss at epoch 26: 0.8577624730361525\n",
      "Avg training accuracy at epoch 26: 0.6915374677002584\n",
      "Training f1_score at epoch 26: 0.6691629441320684\n",
      "\n",
      "Validation loss at epoch 26: 0.8687104921083193\n",
      "Validation accuracy at epoch 26: 0.6858108108108109\n",
      "Validation f1_score at epoch 26: 0.6802859217852016\n",
      "\n",
      "\n",
      "Avg training loss at epoch 27: 0.8550031775035908\n",
      "Avg training accuracy at epoch 27: 0.6970284237726099\n",
      "Training f1_score at epoch 27: 0.6765447361688595\n",
      "\n",
      "Validation loss at epoch 27: 0.8642408654496476\n",
      "Validation accuracy at epoch 27: 0.6993243243243243\n",
      "Validation f1_score at epoch 27: 0.6922038832961239\n",
      "\n",
      "\n",
      "Avg training loss at epoch 28: 0.852649153048986\n",
      "Avg training accuracy at epoch 28: 0.6981589147286822\n",
      "Training f1_score at epoch 28: 0.6784813669071438\n",
      "\n",
      "Validation loss at epoch 28: 0.8637769093384614\n",
      "Validation accuracy at epoch 28: 0.7027027027027027\n",
      "Validation f1_score at epoch 28: 0.6967825613991047\n",
      "\n",
      "\n",
      "Avg training loss at epoch 29: 0.8500060124914776\n",
      "Avg training accuracy at epoch 29: 0.6983204134366925\n",
      "Training f1_score at epoch 29: 0.6782686885844482\n",
      "\n",
      "Validation loss at epoch 29: 0.8641489454217859\n",
      "Validation accuracy at epoch 29: 0.706081081081081\n",
      "Validation f1_score at epoch 29: 0.7006182653241476\n",
      "\n",
      "\n",
      "Avg training loss at epoch 30: 0.8477654817492463\n",
      "Avg training accuracy at epoch 30: 0.7034883720930233\n",
      "Training f1_score at epoch 30: 0.6845145866306805\n",
      "\n",
      "Validation loss at epoch 30: 0.8613114115354177\n",
      "Validation accuracy at epoch 30: 0.7094594594594594\n",
      "Validation f1_score at epoch 30: 0.7033294853538035\n",
      "\n",
      "\n",
      "Avg training loss at epoch 31: 0.8454512431640033\n",
      "Avg training accuracy at epoch 31: 0.7072028423772609\n",
      "Training f1_score at epoch 31: 0.6893014681142255\n",
      "\n",
      "Validation loss at epoch 31: 0.8595456642073553\n",
      "Validation accuracy at epoch 31: 0.7027027027027027\n",
      "Validation f1_score at epoch 31: 0.6959154152340089\n",
      "\n",
      "\n",
      "Avg training loss at epoch 32: 0.8433319552000179\n",
      "Avg training accuracy at epoch 32: 0.7093023255813954\n",
      "Training f1_score at epoch 32: 0.6904067110128391\n",
      "\n",
      "Validation loss at epoch 32: 0.858808602835681\n",
      "Validation accuracy at epoch 32: 0.7027027027027027\n",
      "Validation f1_score at epoch 32: 0.6982184482184483\n",
      "\n",
      "\n",
      "Avg training loss at epoch 33: 0.8410977385456864\n",
      "Avg training accuracy at epoch 33: 0.709625322997416\n",
      "Training f1_score at epoch 33: 0.6922286142567374\n",
      "\n",
      "Validation loss at epoch 33: 0.8605609648936504\n",
      "Validation accuracy at epoch 33: 0.7162162162162162\n",
      "Validation f1_score at epoch 33: 0.7110877649551682\n",
      "\n",
      "\n",
      "Avg training loss at epoch 34: 0.8391868673861796\n",
      "Avg training accuracy at epoch 34: 0.7139857881136951\n",
      "Training f1_score at epoch 34: 0.6964840513352953\n",
      "\n",
      "Validation loss at epoch 34: 0.8590716751846107\n",
      "Validation accuracy at epoch 34: 0.6993243243243243\n",
      "Validation f1_score at epoch 34: 0.6946755117316418\n",
      "\n",
      "\n",
      "Avg training loss at epoch 35: 0.837166038902539\n",
      "Avg training accuracy at epoch 35: 0.7162467700258398\n",
      "Training f1_score at epoch 35: 0.6983091964644883\n",
      "\n",
      "Validation loss at epoch 35: 0.8568665884636544\n",
      "Validation accuracy at epoch 35: 0.7094594594594594\n",
      "Validation f1_score at epoch 35: 0.7031638926375768\n",
      "\n",
      "\n",
      "Avg training loss at epoch 36: 0.8353261082055341\n",
      "Avg training accuracy at epoch 36: 0.7202842377260982\n",
      "Training f1_score at epoch 36: 0.7035493566002403\n",
      "\n",
      "Validation loss at epoch 36: 0.8555505968428947\n",
      "Validation accuracy at epoch 36: 0.7094594594594594\n",
      "Validation f1_score at epoch 36: 0.701963748719474\n",
      "\n",
      "\n",
      "Avg training loss at epoch 37: 0.8333823040166258\n",
      "Avg training accuracy at epoch 37: 0.7214147286821705\n",
      "Training f1_score at epoch 37: 0.7041301679404247\n",
      "\n",
      "Validation loss at epoch 37: 0.8580262290464865\n",
      "Validation accuracy at epoch 37: 0.706081081081081\n",
      "Validation f1_score at epoch 37: 0.7012425921387423\n",
      "\n",
      "\n",
      "Avg training loss at epoch 38: 0.8319098682982669\n",
      "Avg training accuracy at epoch 38: 0.7206072351421189\n",
      "Training f1_score at epoch 38: 0.7042206665873786\n",
      "\n",
      "Validation loss at epoch 38: 0.8543853212047268\n",
      "Validation accuracy at epoch 38: 0.706081081081081\n",
      "Validation f1_score at epoch 38: 0.69770945462647\n",
      "\n",
      "\n",
      "Avg training loss at epoch 39: 0.8300295921875217\n",
      "Avg training accuracy at epoch 39: 0.723998708010336\n",
      "Training f1_score at epoch 39: 0.7068477202062337\n",
      "\n",
      "Validation loss at epoch 39: 0.8525644524677379\n",
      "Validation accuracy at epoch 39: 0.7128378378378378\n",
      "Validation f1_score at epoch 39: 0.7061337962080961\n",
      "\n",
      "\n",
      "Avg training loss at epoch 40: 0.8289184802878427\n",
      "Avg training accuracy at epoch 40: 0.7241602067183462\n",
      "Training f1_score at epoch 40: 0.7079311170487556\n",
      "\n",
      "Validation loss at epoch 40: 0.8533350825309753\n",
      "Validation accuracy at epoch 40: 0.7094594594594594\n",
      "Validation f1_score at epoch 40: 0.7014221158958001\n",
      "\n",
      "\n",
      "Avg training loss at epoch 41: 0.8273190179844543\n",
      "Avg training accuracy at epoch 41: 0.7243217054263565\n",
      "Training f1_score at epoch 41: 0.7082844855498892\n",
      "\n",
      "Validation loss at epoch 41: 0.8526180112684095\n",
      "Validation accuracy at epoch 41: 0.706081081081081\n",
      "Validation f1_score at epoch 41: 0.698972186878858\n",
      "\n",
      "\n",
      "Avg training loss at epoch 42: 0.8258129124185528\n",
      "Avg training accuracy at epoch 42: 0.7272286821705426\n",
      "Training f1_score at epoch 42: 0.7108756810961027\n",
      "\n",
      "Validation loss at epoch 42: 0.8535073383434398\n",
      "Validation accuracy at epoch 42: 0.7027027027027027\n",
      "Validation f1_score at epoch 42: 0.6978694974529273\n",
      "\n",
      "\n",
      "Avg training loss at epoch 43: 0.8244605968472878\n",
      "Avg training accuracy at epoch 43: 0.7262596899224806\n",
      "Training f1_score at epoch 43: 0.7101551895402521\n",
      "\n",
      "Validation loss at epoch 43: 0.8501479690139359\n",
      "Validation accuracy at epoch 43: 0.7094594594594594\n",
      "Validation f1_score at epoch 43: 0.7016068473069467\n",
      "\n",
      "\n",
      "Avg training loss at epoch 44: 0.8227742760988477\n",
      "Avg training accuracy at epoch 44: 0.7290051679586563\n",
      "Training f1_score at epoch 44: 0.7127917932516175\n",
      "\n",
      "Validation loss at epoch 44: 0.845416056143271\n",
      "Validation accuracy at epoch 44: 0.7195945945945946\n",
      "Validation f1_score at epoch 44: 0.7117231427576255\n",
      "\n",
      "\n",
      "Avg training loss at epoch 45: 0.8219352877417276\n",
      "Avg training accuracy at epoch 45: 0.7307816537467701\n",
      "Training f1_score at epoch 45: 0.7144189253587808\n",
      "\n",
      "Validation loss at epoch 45: 0.8493210947191393\n",
      "Validation accuracy at epoch 45: 0.7027027027027027\n",
      "Validation f1_score at epoch 45: 0.696512333222404\n",
      "\n",
      "\n",
      "Avg training loss at epoch 46: 0.8204399635317405\n",
      "Avg training accuracy at epoch 46: 0.7338501291989664\n",
      "Training f1_score at epoch 46: 0.7177793904355996\n",
      "\n",
      "Validation loss at epoch 46: 0.8486884526304297\n",
      "Validation accuracy at epoch 46: 0.7094594594594594\n",
      "Validation f1_score at epoch 46: 0.7034267815517815\n",
      "\n",
      "\n",
      "Avg training loss at epoch 47: 0.8196906237947232\n",
      "Avg training accuracy at epoch 47: 0.7327196382428941\n",
      "Training f1_score at epoch 47: 0.7163683153982299\n",
      "\n",
      "Validation loss at epoch 47: 0.8475013310844833\n",
      "Validation accuracy at epoch 47: 0.7162162162162162\n",
      "Validation f1_score at epoch 47: 0.7085470085470086\n",
      "\n",
      "\n",
      "Avg training loss at epoch 48: 0.8186314373977425\n",
      "Avg training accuracy at epoch 48: 0.7340116279069767\n",
      "Training f1_score at epoch 48: 0.7185245074812404\n",
      "\n",
      "Validation loss at epoch 48: 0.8442476891182564\n",
      "Validation accuracy at epoch 48: 0.7128378378378378\n",
      "Validation f1_score at epoch 48: 0.7033540981311681\n",
      "\n",
      "\n",
      "Avg training loss at epoch 49: 0.8175511078317036\n",
      "Avg training accuracy at epoch 49: 0.7343346253229974\n",
      "Training f1_score at epoch 49: 0.7179328703177624\n",
      "\n",
      "Validation loss at epoch 49: 0.841942725954829\n",
      "Validation accuracy at epoch 49: 0.7195945945945946\n",
      "Validation f1_score at epoch 49: 0.7087563715112027\n",
      "\n",
      "\n"
     ]
    }
   ],
   "source": [
    "history = trainer.train(training_dataset, validation_dataset)"
   ]
  },
  {
   "cell_type": "markdown",
   "metadata": {
    "id": "dseSyJSh63WT"
   },
   "source": [
    "### Plots"
   ]
  },
  {
   "cell_type": "markdown",
   "metadata": {
    "id": "GkeG9xzm6-L2"
   },
   "source": [
    "#### Loss"
   ]
  },
  {
   "cell_type": "code",
   "execution_count": 15,
   "metadata": {
    "colab": {
     "base_uri": "https://localhost:8080/",
     "height": 452
    },
    "executionInfo": {
     "elapsed": 492,
     "status": "ok",
     "timestamp": 1746374350923,
     "user": {
      "displayName": "gjergj leka",
      "userId": "00061311852127832404"
     },
     "user_tz": -120
    },
    "id": "H38NVTDc65hy",
    "outputId": "00eb8e9a-c2eb-439d-aad9-1623785b655c"
   },
   "outputs": [
    {
     "data": {
      "image/png": "[encoded data removed]",
      "text/plain": [
       "<Figure size 640x480 with 1 Axes>"
      ]
     },
     "metadata": {},
     "output_type": "display_data"
    }
   ],
   "source": [
    "plt.title('CrossEntropy Loss - Plot')\n",
    "plt.plot(history[\"train_loss\"], label=\"training loss\")\n",
    "plt.plot(history[\"valid_loss\"], label=\"validation loss\")\n",
    "plt.legend()\n",
    "\n",
    "plt.show()"
   ]
  },
  {
   "cell_type": "markdown",
   "metadata": {
    "id": "yXZeKxvB7A0G"
   },
   "source": [
    "#### Accuracy"
   ]
  },
  {
   "cell_type": "code",
   "execution_count": 16,
   "metadata": {
    "colab": {
     "base_uri": "https://localhost:8080/",
     "height": 452
    },
    "executionInfo": {
     "elapsed": 224,
     "status": "ok",
     "timestamp": 1746374356636,
     "user": {
      "displayName": "gjergj leka",
      "userId": "00061311852127832404"
     },
     "user_tz": -120
    },
    "id": "h8DYOoTp7C0q",
    "outputId": "c6060d25-a067-4164-a2db-1ab86d5f2ece"
   },
   "outputs": [
    {
     "data": {
      "image/png": "[encoded data removed]",
      "text/plain": [
       "<Figure size 640x480 with 1 Axes>"
      ]
     },
     "metadata": {},
     "output_type": "display_data"
    }
   ],
   "source": [
    "plt.title(\"Accuracy - Plot\")\n",
    "plt.plot(history[\"train_accuracy\"], label=\"training accuracy\")\n",
    "plt.plot(history[\"valid_accuracy\"], label=\"validation accuracy\")\n",
    "plt.legend()\n",
    "\n",
    "plt.show()"
   ]
  },
  {
   "cell_type": "markdown",
   "metadata": {
    "id": "i0ozoEfNBgGZ"
   },
   "source": [
    "#### F1-Score"
   ]
  },
  {
   "cell_type": "code",
   "execution_count": 17,
   "metadata": {
    "colab": {
     "base_uri": "https://localhost:8080/",
     "height": 452
    },
    "executionInfo": {
     "elapsed": 264,
     "status": "ok",
     "timestamp": 1746374409614,
     "user": {
      "displayName": "gjergj leka",
      "userId": "00061311852127832404"
     },
     "user_tz": -120
    },
    "id": "um35qifuBkmf",
    "outputId": "8aabe17a-0897-4d4c-db0c-6a7a8666ce9e"
   },
   "outputs": [
    {
     "data": {
      "image/png": "[encoded data removed]",
      "text/plain": [
       "<Figure size 640x480 with 1 Axes>"
      ]
     },
     "metadata": {},
     "output_type": "display_data"
    }
   ],
   "source": [
    "plt.title(\"F1-Score - Plot\")\n",
    "plt.plot(history[\"train_f1_score\"], label=\"train f1-score\")\n",
    "plt.plot(history[\"valid_f1_score\"], label=\"validation f1-score\")\n",
    "plt.legend()\n",
    "\n",
    "plt.show()"
   ]
  },
  {
   "cell_type": "markdown",
   "metadata": {
    "id": "oyAAFw1q7MFL"
   },
   "source": [
    "### Now we save the model"
   ]
  },
  {
   "cell_type": "code",
   "execution_count": 18,
   "metadata": {
    "id": "b9y2nawv7Orc"
   },
   "outputs": [],
   "source": [
    "state_dict = stats_classifier.state_dict()\n",
    "torch.save(state_dict, \"../models/stats_classifier.tar\")"
   ]
  }
 ],
 "metadata": {
  "colab": {
   "authorship_tag": "ABX9TyNiSzznU8Nhu3QncwZOjtum",
   "provenance": []
  },
  "kernelspec": {
   "display_name": "Python 3",
   "name": "python3"
  },
  "language_info": {
   "codemirror_mode": {
    "name": "ipython",
    "version": 3
   },
   "file_extension": ".py",
   "mimetype": "text/x-python",
   "name": "python",
   "nbconvert_exporter": "python",
   "pygments_lexer": "ipython3",
   "version": "3.10.12"
  },
  "widgets": {
   "application/vnd.jupyter.widget-state+json": {
    "1ae95f17f0fd4bfeb7d76c1c38d8bc7f": {
     "model_module": "@jupyter-widgets/controls",
     "model_module_version": "1.5.0",
     "model_name": "HTMLModel",
     "state": {
      "_dom_classes": [],
      "_model_module": "@jupyter-widgets/controls",
      "_model_module_version": "1.5.0",
      "_model_name": "HTMLModel",
      "_view_count": null,
      "_view_module": "@jupyter-widgets/controls",
      "_view_module_version": "1.5.0",
      "_view_name": "HTMLView",
      "description": "",
      "description_tooltip": null,
      "layout": "IPY_MODEL_f204489857c742e79658c8ed5dd169e3",
      "placeholder": "​",
      "style": "IPY_MODEL_9e4c04f5c83d48e2ae49ff6609c7d353",
      "value": " 50/50 [00:28&lt;00:00,  1.88it/s]"
     }
    },
    "335ebe8822bf412b9330e5045cd8959c": {
     "model_module": "@jupyter-widgets/controls",
     "model_module_version": "1.5.0",
     "model_name": "ProgressStyleModel",
     "state": {
      "_model_module": "@jupyter-widgets/controls",
      "_model_module_version": "1.5.0",
      "_model_name": "ProgressStyleModel",
      "_view_count": null,
      "_view_module": "@jupyter-widgets/base",
      "_view_module_version": "1.2.0",
      "_view_name": "StyleView",
      "bar_color": null,
      "description_width": ""
     }
    },
    "463d7b2e861249899ab81e8b06384af2": {
     "model_module": "@jupyter-widgets/controls",
     "model_module_version": "1.5.0",
     "model_name": "DescriptionStyleModel",
     "state": {
      "_model_module": "@jupyter-widgets/controls",
      "_model_module_version": "1.5.0",
      "_model_name": "DescriptionStyleModel",
      "_view_count": null,
      "_view_module": "@jupyter-widgets/base",
      "_view_module_version": "1.2.0",
      "_view_name": "StyleView",
      "description_width": ""
     }
    },
    "744cb797bc1043bda57d56bcad60da2b": {
     "model_module": "@jupyter-widgets/controls",
     "model_module_version": "1.5.0",
     "model_name": "HTMLModel",
     "state": {
      "_dom_classes": [],
      "_model_module": "@jupyter-widgets/controls",
      "_model_module_version": "1.5.0",
      "_model_name": "HTMLModel",
      "_view_count": null,
      "_view_module": "@jupyter-widgets/controls",
      "_view_module_version": "1.5.0",
      "_view_name": "HTMLView",
      "description": "",
      "description_tooltip": null,
      "layout": "IPY_MODEL_efb0b89624914d2984e13aad7ce6d752",
      "placeholder": "​",
      "style": "IPY_MODEL_463d7b2e861249899ab81e8b06384af2",
      "value": "100%"
     }
    },
    "9e4c04f5c83d48e2ae49ff6609c7d353": {
     "model_module": "@jupyter-widgets/controls",
     "model_module_version": "1.5.0",
     "model_name": "DescriptionStyleModel",
     "state": {
      "_model_module": "@jupyter-widgets/controls",
      "_model_module_version": "1.5.0",
      "_model_name": "DescriptionStyleModel",
      "_view_count": null,
      "_view_module": "@jupyter-widgets/base",
      "_view_module_version": "1.2.0",
      "_view_name": "StyleView",
      "description_width": ""
     }
    },
    "a88426886b7d4eb789286d407ed7b4f1": {
     "model_module": "@jupyter-widgets/base",
     "model_module_version": "1.2.0",
     "model_name": "LayoutModel",
     "state": {
      "_model_module": "@jupyter-widgets/base",
      "_model_module_version": "1.2.0",
      "_model_name": "LayoutModel",
      "_view_count": null,
      "_view_module": "@jupyter-widgets/base",
      "_view_module_version": "1.2.0",
      "_view_name": "LayoutView",
      "align_content": null,
      "align_items": null,
      "align_self": null,
      "border": null,
      "bottom": null,
      "display": null,
      "flex": null,
      "flex_flow": null,
      "grid_area": null,
      "grid_auto_columns": null,
      "grid_auto_flow": null,
      "grid_auto_rows": null,
      "grid_column": null,
      "grid_gap": null,
      "grid_row": null,
      "grid_template_areas": null,
      "grid_template_columns": null,
      "grid_template_rows": null,
      "height": null,
      "justify_content": null,
      "justify_items": null,
      "left": null,
      "margin": null,
      "max_height": null,
      "max_width": null,
      "min_height": null,
      "min_width": null,
      "object_fit": null,
      "object_position": null,
      "order": null,
      "overflow": null,
      "overflow_x": null,
      "overflow_y": null,
      "padding": null,
      "right": null,
      "top": null,
      "visibility": null,
      "width": null
     }
    },
    "aedebca0b3f342ebb9ec91ec99fdda39": {
     "model_module": "@jupyter-widgets/controls",
     "model_module_version": "1.5.0",
     "model_name": "HBoxModel",
     "state": {
      "_dom_classes": [],
      "_model_module": "@jupyter-widgets/controls",
      "_model_module_version": "1.5.0",
      "_model_name": "HBoxModel",
      "_view_count": null,
      "_view_module": "@jupyter-widgets/controls",
      "_view_module_version": "1.5.0",
      "_view_name": "HBoxView",
      "box_style": "",
      "children": [
       "IPY_MODEL_744cb797bc1043bda57d56bcad60da2b",
       "IPY_MODEL_dd83fecb6c0f4bdd908ac08e35e04353",
       "IPY_MODEL_1ae95f17f0fd4bfeb7d76c1c38d8bc7f"
      ],
      "layout": "IPY_MODEL_a88426886b7d4eb789286d407ed7b4f1"
     }
    },
    "dd83fecb6c0f4bdd908ac08e35e04353": {
     "model_module": "@jupyter-widgets/controls",
     "model_module_version": "1.5.0",
     "model_name": "FloatProgressModel",
     "state": {
      "_dom_classes": [],
      "_model_module": "@jupyter-widgets/controls",
      "_model_module_version": "1.5.0",
      "_model_name": "FloatProgressModel",
      "_view_count": null,
      "_view_module": "@jupyter-widgets/controls",
      "_view_module_version": "1.5.0",
      "_view_name": "ProgressView",
      "bar_style": "success",
      "description": "",
      "description_tooltip": null,
      "layout": "IPY_MODEL_eee15e3d6882401794fb0295d9a6b468",
      "max": 50,
      "min": 0,
      "orientation": "horizontal",
      "style": "IPY_MODEL_335ebe8822bf412b9330e5045cd8959c",
      "value": 50
     }
    },
    "eee15e3d6882401794fb0295d9a6b468": {
     "model_module": "@jupyter-widgets/base",
     "model_module_version": "1.2.0",
     "model_name": "LayoutModel",
     "state": {
      "_model_module": "@jupyter-widgets/base",
      "_model_module_version": "1.2.0",
      "_model_name": "LayoutModel",
      "_view_count": null,
      "_view_module": "@jupyter-widgets/base",
      "_view_module_version": "1.2.0",
      "_view_name": "LayoutView",
      "align_content": null,
      "align_items": null,
      "align_self": null,
      "border": null,
      "bottom": null,
      "display": null,
      "flex": null,
      "flex_flow": null,
      "grid_area": null,
      "grid_auto_columns": null,
      "grid_auto_flow": null,
      "grid_auto_rows": null,
      "grid_column": null,
      "grid_gap": null,
      "grid_row": null,
      "grid_template_areas": null,
      "grid_template_columns": null,
      "grid_template_rows": null,
      "height": null,
      "justify_content": null,
      "justify_items": null,
      "left": null,
      "margin": null,
      "max_height": null,
      "max_width": null,
      "min_height": null,
      "min_width": null,
      "object_fit": null,
      "object_position": null,
      "order": null,
      "overflow": null,
      "overflow_x": null,
      "overflow_y": null,
      "padding": null,
      "right": null,
      "top": null,
      "visibility": null,
      "width": null
     }
    },
    "efb0b89624914d2984e13aad7ce6d752": {
     "model_module": "@jupyter-widgets/base",
     "model_module_version": "1.2.0",
     "model_name": "LayoutModel",
     "state": {
      "_model_module": "@jupyter-widgets/base",
      "_model_module_version": "1.2.0",
      "_model_name": "LayoutModel",
      "_view_count": null,
      "_view_module": "@jupyter-widgets/base",
      "_view_module_version": "1.2.0",
      "_view_name": "LayoutView",
      "align_content": null,
      "align_items": null,
      "align_self": null,
      "border": null,
      "bottom": null,
      "display": null,
      "flex": null,
      "flex_flow": null,
      "grid_area": null,
      "grid_auto_columns": null,
      "grid_auto_flow": null,
      "grid_auto_rows": null,
      "grid_column": null,
      "grid_gap": null,
      "grid_row": null,
      "grid_template_areas": null,
      "grid_template_columns": null,
      "grid_template_rows": null,
      "height": null,
      "justify_content": null,
      "justify_items": null,
      "left": null,
      "margin": null,
      "max_height": null,
      "max_width": null,
      "min_height": null,
      "min_width": null,
      "object_fit": null,
      "object_position": null,
      "order": null,
      "overflow": null,
      "overflow_x": null,
      "overflow_y": null,
      "padding": null,
      "right": null,
      "top": null,
      "visibility": null,
      "width": null
     }
    },
    "f204489857c742e79658c8ed5dd169e3": {
     "model_module": "@jupyter-widgets/base",
     "model_module_version": "1.2.0",
     "model_name": "LayoutModel",
     "state": {
      "_model_module": "@jupyter-widgets/base",
      "_model_module_version": "1.2.0",
      "_model_name": "LayoutModel",
      "_view_count": null,
      "_view_module": "@jupyter-widgets/base",
      "_view_module_version": "1.2.0",
      "_view_name": "LayoutView",
      "align_content": null,
      "align_items": null,
      "align_self": null,
      "border": null,
      "bottom": null,
      "display": null,
      "flex": null,
      "flex_flow": null,
      "grid_area": null,
      "grid_auto_columns": null,
      "grid_auto_flow": null,
      "grid_auto_rows": null,
      "grid_column": null,
      "grid_gap": null,
      "grid_row": null,
      "grid_template_areas": null,
      "grid_template_columns": null,
      "grid_template_rows": null,
      "height": null,
      "justify_content": null,
      "justify_items": null,
      "left": null,
      "margin": null,
      "max_height": null,
      "max_width": null,
      "min_height": null,
      "min_width": null,
      "object_fit": null,
      "object_position": null,
      "order": null,
      "overflow": null,
      "overflow_x": null,
      "overflow_y": null,
      "padding": null,
      "right": null,
      "top": null,
      "visibility": null,
      "width": null
     }
    }
   }
  }
 },
 "nbformat": 4,
 "nbformat_minor": 0
}
